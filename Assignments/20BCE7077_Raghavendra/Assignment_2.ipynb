{
 "cells": [
  {
   "cell_type": "code",
   "execution_count": 1,
   "id": "cdcb0cc9-6aa3-4edb-bce4-da99b58b9f07",
   "metadata": {},
   "outputs": [],
   "source": [
    "import pandas as pd\n",
    "import numpy as np\n",
    "import matplotlib.pyplot as plt \n",
    "import seaborn as sns\n",
    "%matplotlib inline"
   ]
  },
  {
   "cell_type": "code",
   "execution_count": 2,
   "id": "086282fe-b7fb-406f-a13a-ab845eb3c588",
   "metadata": {},
   "outputs": [],
   "source": [
    "data=pd.read_csv(\"titanic.csv\")"
   ]
  },
  {
   "cell_type": "code",
   "execution_count": 3,
   "id": "894b985d-3e80-4ad6-98e7-60cab2282042",
   "metadata": {},
   "outputs": [
    {
     "data": {
      "text/html": [
       "<div>\n",
       "<style scoped>\n",
       "    .dataframe tbody tr th:only-of-type {\n",
       "        vertical-align: middle;\n",
       "    }\n",
       "\n",
       "    .dataframe tbody tr th {\n",
       "        vertical-align: top;\n",
       "    }\n",
       "\n",
       "    .dataframe thead th {\n",
       "        text-align: right;\n",
       "    }\n",
       "</style>\n",
       "<table border=\"1\" class=\"dataframe\">\n",
       "  <thead>\n",
       "    <tr style=\"text-align: right;\">\n",
       "      <th></th>\n",
       "      <th>survived</th>\n",
       "      <th>pclass</th>\n",
       "      <th>sex</th>\n",
       "      <th>age</th>\n",
       "      <th>sibsp</th>\n",
       "      <th>parch</th>\n",
       "      <th>fare</th>\n",
       "      <th>embarked</th>\n",
       "      <th>class</th>\n",
       "      <th>who</th>\n",
       "      <th>adult_male</th>\n",
       "      <th>deck</th>\n",
       "      <th>embark_town</th>\n",
       "      <th>alive</th>\n",
       "      <th>alone</th>\n",
       "    </tr>\n",
       "  </thead>\n",
       "  <tbody>\n",
       "    <tr>\n",
       "      <th>0</th>\n",
       "      <td>0</td>\n",
       "      <td>3</td>\n",
       "      <td>male</td>\n",
       "      <td>22.0</td>\n",
       "      <td>1</td>\n",
       "      <td>0</td>\n",
       "      <td>7.2500</td>\n",
       "      <td>S</td>\n",
       "      <td>Third</td>\n",
       "      <td>man</td>\n",
       "      <td>True</td>\n",
       "      <td>NaN</td>\n",
       "      <td>Southampton</td>\n",
       "      <td>no</td>\n",
       "      <td>False</td>\n",
       "    </tr>\n",
       "    <tr>\n",
       "      <th>1</th>\n",
       "      <td>1</td>\n",
       "      <td>1</td>\n",
       "      <td>female</td>\n",
       "      <td>38.0</td>\n",
       "      <td>1</td>\n",
       "      <td>0</td>\n",
       "      <td>71.2833</td>\n",
       "      <td>C</td>\n",
       "      <td>First</td>\n",
       "      <td>woman</td>\n",
       "      <td>False</td>\n",
       "      <td>C</td>\n",
       "      <td>Cherbourg</td>\n",
       "      <td>yes</td>\n",
       "      <td>False</td>\n",
       "    </tr>\n",
       "    <tr>\n",
       "      <th>2</th>\n",
       "      <td>1</td>\n",
       "      <td>3</td>\n",
       "      <td>female</td>\n",
       "      <td>26.0</td>\n",
       "      <td>0</td>\n",
       "      <td>0</td>\n",
       "      <td>7.9250</td>\n",
       "      <td>S</td>\n",
       "      <td>Third</td>\n",
       "      <td>woman</td>\n",
       "      <td>False</td>\n",
       "      <td>NaN</td>\n",
       "      <td>Southampton</td>\n",
       "      <td>yes</td>\n",
       "      <td>True</td>\n",
       "    </tr>\n",
       "    <tr>\n",
       "      <th>3</th>\n",
       "      <td>1</td>\n",
       "      <td>1</td>\n",
       "      <td>female</td>\n",
       "      <td>35.0</td>\n",
       "      <td>1</td>\n",
       "      <td>0</td>\n",
       "      <td>53.1000</td>\n",
       "      <td>S</td>\n",
       "      <td>First</td>\n",
       "      <td>woman</td>\n",
       "      <td>False</td>\n",
       "      <td>C</td>\n",
       "      <td>Southampton</td>\n",
       "      <td>yes</td>\n",
       "      <td>False</td>\n",
       "    </tr>\n",
       "    <tr>\n",
       "      <th>4</th>\n",
       "      <td>0</td>\n",
       "      <td>3</td>\n",
       "      <td>male</td>\n",
       "      <td>35.0</td>\n",
       "      <td>0</td>\n",
       "      <td>0</td>\n",
       "      <td>8.0500</td>\n",
       "      <td>S</td>\n",
       "      <td>Third</td>\n",
       "      <td>man</td>\n",
       "      <td>True</td>\n",
       "      <td>NaN</td>\n",
       "      <td>Southampton</td>\n",
       "      <td>no</td>\n",
       "      <td>True</td>\n",
       "    </tr>\n",
       "  </tbody>\n",
       "</table>\n",
       "</div>"
      ],
      "text/plain": [
       "   survived  pclass     sex   age  sibsp  parch     fare embarked  class  \\\n",
       "0         0       3    male  22.0      1      0   7.2500        S  Third   \n",
       "1         1       1  female  38.0      1      0  71.2833        C  First   \n",
       "2         1       3  female  26.0      0      0   7.9250        S  Third   \n",
       "3         1       1  female  35.0      1      0  53.1000        S  First   \n",
       "4         0       3    male  35.0      0      0   8.0500        S  Third   \n",
       "\n",
       "     who  adult_male deck  embark_town alive  alone  \n",
       "0    man        True  NaN  Southampton    no  False  \n",
       "1  woman       False    C    Cherbourg   yes  False  \n",
       "2  woman       False  NaN  Southampton   yes   True  \n",
       "3  woman       False    C  Southampton   yes  False  \n",
       "4    man        True  NaN  Southampton    no   True  "
      ]
     },
     "execution_count": 3,
     "metadata": {},
     "output_type": "execute_result"
    }
   ],
   "source": [
    "data.head()"
   ]
  },
  {
   "cell_type": "markdown",
   "id": "748cc3d0-a2c7-48c4-b2cf-53b3bf7083b5",
   "metadata": {},
   "source": [
    "## Univariate Analysis"
   ]
  },
  {
   "cell_type": "code",
   "execution_count": 4,
   "id": "5a8689da-558a-4f5a-9b02-66c84c80d8db",
   "metadata": {
    "tags": []
   },
   "outputs": [
    {
     "data": {
      "image/png": "[encoded data removed]",
      "text/plain": [
       "<Figure size 640x480 with 1 Axes>"
      ]
     },
     "metadata": {},
     "output_type": "display_data"
    }
   ],
   "source": [
    "plt.hist(data['age'].dropna(), bins=30, edgecolor='black')\n",
    "plt.hist(data['age'].dropna(), bins=30, edgecolor='black')\n",
    "plt.xlabel('Age')\n",
    "plt.ylabel('Frequency')\n",
    "plt.title('Age Distribution')\n",
    "plt.show()"
   ]
  },
  {
   "cell_type": "markdown",
   "id": "ea2cae0c-941b-4ebb-8653-149e4ad12985",
   "metadata": {
    "tags": []
   },
   "source": [
    "## Bi - Variate Analysis"
   ]
  },
  {
   "cell_type": "code",
   "execution_count": 5,
   "id": "c248084a-b067-4623-afa3-2ad5d4401dbc",
   "metadata": {},
   "outputs": [
    {
     "data": {
      "image/png": "[encoded data removed]",
      "text/plain": [
       "<Figure size 640x480 with 1 Axes>"
      ]
     },
     "metadata": {},
     "output_type": "display_data"
    }
   ],
   "source": [
    "plt.scatter(data['age'], data['fare'])\n",
    "plt.xlabel('Age')\n",
    "plt.ylabel('Fare')\n",
    "plt.title('Age vs Fare')\n",
    "plt.show()"
   ]
  },
  {
   "cell_type": "markdown",
   "id": "729a2d73-ae19-4106-9501-5ecc162bdb3a",
   "metadata": {},
   "source": [
    "## Multi - Variate Analysis"
   ]
  },
  {
   "cell_type": "code",
   "execution_count": 6,
   "id": "fcff9001-f340-44e6-9810-60efbd6bc40e",
   "metadata": {},
   "outputs": [
    {
     "data": {
      "image/png": "[encoded data removed]",
      "text/plain": [
       "<Figure size 570.486x500 with 6 Axes>"
      ]
     },
     "metadata": {},
     "output_type": "display_data"
    }
   ],
   "source": [
    "variables = ['age', 'fare', 'survived']\n",
    "sns.pairplot(data[variables].dropna(), hue='survived')\n",
    "\n",
    "plt.show()"
   ]
  },
  {
   "cell_type": "markdown",
   "id": "fa44de5f-56e5-4a76-b23e-4a992042c60c",
   "metadata": {},
   "source": [
    "## Descriptive Statistics"
   ]
  },
  {
   "cell_type": "code",
   "execution_count": 7,
   "id": "fce7e944-7a43-4229-952f-12360a4346f1",
   "metadata": {},
   "outputs": [
    {
     "name": "stdout",
     "output_type": "stream",
     "text": [
      "Numeric Descriptive Statistics:\n",
      "         survived      pclass         age       sibsp       parch        fare\n",
      "count  891.000000  891.000000  714.000000  891.000000  891.000000  891.000000\n",
      "mean     0.383838    2.308642   29.699118    0.523008    0.381594   32.204208\n",
      "std      0.486592    0.836071   14.526497    1.102743    0.806057   49.693429\n",
      "min      0.000000    1.000000    0.420000    0.000000    0.000000    0.000000\n",
      "25%      0.000000    2.000000   20.125000    0.000000    0.000000    7.910400\n",
      "50%      0.000000    3.000000   28.000000    0.000000    0.000000   14.454200\n",
      "75%      1.000000    3.000000   38.000000    1.000000    0.000000   31.000000\n",
      "max      1.000000    3.000000   80.000000    8.000000    6.000000  512.329200\n",
      "\n",
      "Categorical Descriptive Statistics:\n",
      "         sex embarked  class  who deck  embark_town alive\n",
      "count    891      889    891  891  203          889   891\n",
      "unique     2        3      3    3    7            3     2\n",
      "top     male        S  Third  man    C  Southampton    no\n",
      "freq     577      644    491  537   59          644   549\n"
     ]
    }
   ],
   "source": [
    "numeric_stats = data.describe()\n",
    "print(\"Numeric Descriptive Statistics:\")\n",
    "print(numeric_stats)\n",
    "\n",
    "categorical_stats = data.describe(include='object')\n",
    "print(\"\\nCategorical Descriptive Statistics:\")\n",
    "print(categorical_stats)"
   ]
  },
  {
   "cell_type": "markdown",
   "id": "e785edb2-5dbb-4562-9cf3-e57bd54416dd",
   "metadata": {},
   "source": [
    "## Missing Values"
   ]
  },
  {
   "cell_type": "code",
   "execution_count": 8,
   "id": "9430044f-2d53-42c3-ac7d-919cd31a6449",
   "metadata": {},
   "outputs": [
    {
     "data": {
      "text/html": [
       "<div>\n",
       "<style scoped>\n",
       "    .dataframe tbody tr th:only-of-type {\n",
       "        vertical-align: middle;\n",
       "    }\n",
       "\n",
       "    .dataframe tbody tr th {\n",
       "        vertical-align: top;\n",
       "    }\n",
       "\n",
       "    .dataframe thead th {\n",
       "        text-align: right;\n",
       "    }\n",
       "</style>\n",
       "<table border=\"1\" class=\"dataframe\">\n",
       "  <thead>\n",
       "    <tr style=\"text-align: right;\">\n",
       "      <th></th>\n",
       "      <th>survived</th>\n",
       "      <th>pclass</th>\n",
       "      <th>sex</th>\n",
       "      <th>age</th>\n",
       "      <th>sibsp</th>\n",
       "      <th>parch</th>\n",
       "      <th>fare</th>\n",
       "      <th>embarked</th>\n",
       "      <th>class</th>\n",
       "      <th>who</th>\n",
       "      <th>adult_male</th>\n",
       "      <th>deck</th>\n",
       "      <th>embark_town</th>\n",
       "      <th>alive</th>\n",
       "      <th>alone</th>\n",
       "    </tr>\n",
       "  </thead>\n",
       "  <tbody>\n",
       "    <tr>\n",
       "      <th>0</th>\n",
       "      <td>False</td>\n",
       "      <td>False</td>\n",
       "      <td>False</td>\n",
       "      <td>False</td>\n",
       "      <td>False</td>\n",
       "      <td>False</td>\n",
       "      <td>False</td>\n",
       "      <td>False</td>\n",
       "      <td>False</td>\n",
       "      <td>False</td>\n",
       "      <td>False</td>\n",
       "      <td>True</td>\n",
       "      <td>False</td>\n",
       "      <td>False</td>\n",
       "      <td>False</td>\n",
       "    </tr>\n",
       "    <tr>\n",
       "      <th>1</th>\n",
       "      <td>False</td>\n",
       "      <td>False</td>\n",
       "      <td>False</td>\n",
       "      <td>False</td>\n",
       "      <td>False</td>\n",
       "      <td>False</td>\n",
       "      <td>False</td>\n",
       "      <td>False</td>\n",
       "      <td>False</td>\n",
       "      <td>False</td>\n",
       "      <td>False</td>\n",
       "      <td>False</td>\n",
       "      <td>False</td>\n",
       "      <td>False</td>\n",
       "      <td>False</td>\n",
       "    </tr>\n",
       "    <tr>\n",
       "      <th>2</th>\n",
       "      <td>False</td>\n",
       "      <td>False</td>\n",
       "      <td>False</td>\n",
       "      <td>False</td>\n",
       "      <td>False</td>\n",
       "      <td>False</td>\n",
       "      <td>False</td>\n",
       "      <td>False</td>\n",
       "      <td>False</td>\n",
       "      <td>False</td>\n",
       "      <td>False</td>\n",
       "      <td>True</td>\n",
       "      <td>False</td>\n",
       "      <td>False</td>\n",
       "      <td>False</td>\n",
       "    </tr>\n",
       "    <tr>\n",
       "      <th>3</th>\n",
       "      <td>False</td>\n",
       "      <td>False</td>\n",
       "      <td>False</td>\n",
       "      <td>False</td>\n",
       "      <td>False</td>\n",
       "      <td>False</td>\n",
       "      <td>False</td>\n",
       "      <td>False</td>\n",
       "      <td>False</td>\n",
       "      <td>False</td>\n",
       "      <td>False</td>\n",
       "      <td>False</td>\n",
       "      <td>False</td>\n",
       "      <td>False</td>\n",
       "      <td>False</td>\n",
       "    </tr>\n",
       "    <tr>\n",
       "      <th>4</th>\n",
       "      <td>False</td>\n",
       "      <td>False</td>\n",
       "      <td>False</td>\n",
       "      <td>False</td>\n",
       "      <td>False</td>\n",
       "      <td>False</td>\n",
       "      <td>False</td>\n",
       "      <td>False</td>\n",
       "      <td>False</td>\n",
       "      <td>False</td>\n",
       "      <td>False</td>\n",
       "      <td>True</td>\n",
       "      <td>False</td>\n",
       "      <td>False</td>\n",
       "      <td>False</td>\n",
       "    </tr>\n",
       "    <tr>\n",
       "      <th>...</th>\n",
       "      <td>...</td>\n",
       "      <td>...</td>\n",
       "      <td>...</td>\n",
       "      <td>...</td>\n",
       "      <td>...</td>\n",
       "      <td>...</td>\n",
       "      <td>...</td>\n",
       "      <td>...</td>\n",
       "      <td>...</td>\n",
       "      <td>...</td>\n",
       "      <td>...</td>\n",
       "      <td>...</td>\n",
       "      <td>...</td>\n",
       "      <td>...</td>\n",
       "      <td>...</td>\n",
       "    </tr>\n",
       "    <tr>\n",
       "      <th>886</th>\n",
       "      <td>False</td>\n",
       "      <td>False</td>\n",
       "      <td>False</td>\n",
       "      <td>False</td>\n",
       "      <td>False</td>\n",
       "      <td>False</td>\n",
       "      <td>False</td>\n",
       "      <td>False</td>\n",
       "      <td>False</td>\n",
       "      <td>False</td>\n",
       "      <td>False</td>\n",
       "      <td>True</td>\n",
       "      <td>False</td>\n",
       "      <td>False</td>\n",
       "      <td>False</td>\n",
       "    </tr>\n",
       "    <tr>\n",
       "      <th>887</th>\n",
       "      <td>False</td>\n",
       "      <td>False</td>\n",
       "      <td>False</td>\n",
       "      <td>False</td>\n",
       "      <td>False</td>\n",
       "      <td>False</td>\n",
       "      <td>False</td>\n",
       "      <td>False</td>\n",
       "      <td>False</td>\n",
       "      <td>False</td>\n",
       "      <td>False</td>\n",
       "      <td>False</td>\n",
       "      <td>False</td>\n",
       "      <td>False</td>\n",
       "      <td>False</td>\n",
       "    </tr>\n",
       "    <tr>\n",
       "      <th>888</th>\n",
       "      <td>False</td>\n",
       "      <td>False</td>\n",
       "      <td>False</td>\n",
       "      <td>True</td>\n",
       "      <td>False</td>\n",
       "      <td>False</td>\n",
       "      <td>False</td>\n",
       "      <td>False</td>\n",
       "      <td>False</td>\n",
       "      <td>False</td>\n",
       "      <td>False</td>\n",
       "      <td>True</td>\n",
       "      <td>False</td>\n",
       "      <td>False</td>\n",
       "      <td>False</td>\n",
       "    </tr>\n",
       "    <tr>\n",
       "      <th>889</th>\n",
       "      <td>False</td>\n",
       "      <td>False</td>\n",
       "      <td>False</td>\n",
       "      <td>False</td>\n",
       "      <td>False</td>\n",
       "      <td>False</td>\n",
       "      <td>False</td>\n",
       "      <td>False</td>\n",
       "      <td>False</td>\n",
       "      <td>False</td>\n",
       "      <td>False</td>\n",
       "      <td>False</td>\n",
       "      <td>False</td>\n",
       "      <td>False</td>\n",
       "      <td>False</td>\n",
       "    </tr>\n",
       "    <tr>\n",
       "      <th>890</th>\n",
       "      <td>False</td>\n",
       "      <td>False</td>\n",
       "      <td>False</td>\n",
       "      <td>False</td>\n",
       "      <td>False</td>\n",
       "      <td>False</td>\n",
       "      <td>False</td>\n",
       "      <td>False</td>\n",
       "      <td>False</td>\n",
       "      <td>False</td>\n",
       "      <td>False</td>\n",
       "      <td>True</td>\n",
       "      <td>False</td>\n",
       "      <td>False</td>\n",
       "      <td>False</td>\n",
       "    </tr>\n",
       "  </tbody>\n",
       "</table>\n",
       "<p>891 rows × 15 columns</p>\n",
       "</div>"
      ],
      "text/plain": [
       "     survived  pclass    sex    age  sibsp  parch   fare  embarked  class  \\\n",
       "0       False   False  False  False  False  False  False     False  False   \n",
       "1       False   False  False  False  False  False  False     False  False   \n",
       "2       False   False  False  False  False  False  False     False  False   \n",
       "3       False   False  False  False  False  False  False     False  False   \n",
       "4       False   False  False  False  False  False  False     False  False   \n",
       "..        ...     ...    ...    ...    ...    ...    ...       ...    ...   \n",
       "886     False   False  False  False  False  False  False     False  False   \n",
       "887     False   False  False  False  False  False  False     False  False   \n",
       "888     False   False  False   True  False  False  False     False  False   \n",
       "889     False   False  False  False  False  False  False     False  False   \n",
       "890     False   False  False  False  False  False  False     False  False   \n",
       "\n",
       "       who  adult_male   deck  embark_town  alive  alone  \n",
       "0    False       False   True        False  False  False  \n",
       "1    False       False  False        False  False  False  \n",
       "2    False       False   True        False  False  False  \n",
       "3    False       False  False        False  False  False  \n",
       "4    False       False   True        False  False  False  \n",
       "..     ...         ...    ...          ...    ...    ...  \n",
       "886  False       False   True        False  False  False  \n",
       "887  False       False  False        False  False  False  \n",
       "888  False       False   True        False  False  False  \n",
       "889  False       False  False        False  False  False  \n",
       "890  False       False   True        False  False  False  \n",
       "\n",
       "[891 rows x 15 columns]"
      ]
     },
     "execution_count": 8,
     "metadata": {},
     "output_type": "execute_result"
    }
   ],
   "source": [
    "data.isna()"
   ]
  },
  {
   "cell_type": "code",
   "execution_count": 9,
   "id": "8f1d1c3d-9543-4124-94a3-e725a55e8cfc",
   "metadata": {},
   "outputs": [],
   "source": [
    "missing_values=data.isnull().sum()"
   ]
  },
  {
   "cell_type": "code",
   "execution_count": 10,
   "id": "8dc548d1-9b9f-41cd-a166-91dce0f9647e",
   "metadata": {},
   "outputs": [
    {
     "data": {
      "text/plain": [
       "survived         0\n",
       "pclass           0\n",
       "sex              0\n",
       "age            177\n",
       "sibsp            0\n",
       "parch            0\n",
       "fare             0\n",
       "embarked         2\n",
       "class            0\n",
       "who              0\n",
       "adult_male       0\n",
       "deck           688\n",
       "embark_town      2\n",
       "alive            0\n",
       "alone            0\n",
       "dtype: int64"
      ]
     },
     "execution_count": 10,
     "metadata": {},
     "output_type": "execute_result"
    }
   ],
   "source": [
    "missing_values"
   ]
  },
  {
   "cell_type": "code",
   "execution_count": 11,
   "id": "c699e4ee-b094-4f09-ae18-e8eca5a4c9a9",
   "metadata": {},
   "outputs": [
    {
     "name": "stdout",
     "output_type": "stream",
     "text": [
      "\n",
      "Missing Values After Handling:\n",
      "survived         0\n",
      "pclass           0\n",
      "sex              0\n",
      "age              0\n",
      "sibsp            0\n",
      "parch            0\n",
      "fare             0\n",
      "embarked         0\n",
      "class            0\n",
      "who              0\n",
      "adult_male       0\n",
      "deck           688\n",
      "embark_town      0\n",
      "alive            0\n",
      "alone            0\n",
      "dtype: int64\n"
     ]
    }
   ],
   "source": [
    "data['age'].fillna(data['age'].mean(), inplace=True)\n",
    "data.dropna(subset=['embarked'], inplace=True)\n",
    "missing_values_after = data.isnull().sum()\n",
    "print(\"\\nMissing Values After Handling:\")\n",
    "print(missing_values_after)"
   ]
  },
  {
   "cell_type": "markdown",
   "id": "f6852ef8-e096-4745-8801-dfe302bcb295",
   "metadata": {},
   "source": [
    "## Outliers and Replace the Outliers"
   ]
  },
  {
   "cell_type": "code",
   "execution_count": 12,
   "id": "a90bdab1-15e6-4c75-8a8f-80cb4a280b44",
   "metadata": {},
   "outputs": [
    {
     "name": "stdout",
     "output_type": "stream",
     "text": [
      "Outliers:\n",
      "     survived  pclass     sex        age  sibsp  parch      fare embarked  \\\n",
      "27          0       1    male  19.000000      3      2  263.0000        S   \n",
      "88          1       1  female  23.000000      3      2  263.0000        S   \n",
      "118         0       1    male  24.000000      0      1  247.5208        C   \n",
      "258         1       1  female  35.000000      0      0  512.3292        C   \n",
      "299         1       1  female  50.000000      0      1  247.5208        C   \n",
      "311         1       1  female  18.000000      2      2  262.3750        C   \n",
      "341         1       1  female  24.000000      3      2  263.0000        S   \n",
      "377         0       1    male  27.000000      0      2  211.5000        C   \n",
      "380         1       1  female  42.000000      0      0  227.5250        C   \n",
      "438         0       1    male  64.000000      1      4  263.0000        S   \n",
      "527         0       1    male  29.699118      0      0  221.7792        S   \n",
      "557         0       1    male  29.699118      0      0  227.5250        C   \n",
      "679         1       1    male  36.000000      0      1  512.3292        C   \n",
      "689         1       1  female  15.000000      0      1  211.3375        S   \n",
      "700         1       1  female  18.000000      1      0  227.5250        C   \n",
      "716         1       1  female  38.000000      0      0  227.5250        C   \n",
      "730         1       1  female  29.000000      0      0  211.3375        S   \n",
      "737         1       1    male  35.000000      0      0  512.3292        C   \n",
      "742         1       1  female  21.000000      2      2  262.3750        C   \n",
      "779         1       1  female  43.000000      0      1  211.3375        S   \n",
      "\n",
      "     class    who  adult_male deck  embark_town alive  alone  Fare_zscore  \n",
      "27   First    man        True    C  Southampton    no  False     4.646175  \n",
      "88   First  woman       False    C  Southampton   yes  False     4.646175  \n",
      "118  First    man        True    B    Cherbourg    no  False     4.334707  \n",
      "258  First  woman       False  NaN    Cherbourg   yes   True     9.663111  \n",
      "299  First  woman       False    B    Cherbourg   yes  False     4.334707  \n",
      "311  First  woman       False    B    Cherbourg   yes  False     4.633599  \n",
      "341  First  woman       False    C  Southampton   yes  False     4.646175  \n",
      "377  First    man        True    C    Cherbourg    no  False     3.609906  \n",
      "380  First  woman       False  NaN    Cherbourg   yes   True     3.932357  \n",
      "438  First    man        True    C  Southampton    no  False     4.646175  \n",
      "527  First    man        True    C  Southampton    no   True     3.816741  \n",
      "557  First    man        True  NaN    Cherbourg    no   True     3.932357  \n",
      "679  First    man        True    B    Cherbourg   yes  False     9.663111  \n",
      "689  First  child       False    B  Southampton   yes  False     3.606636  \n",
      "700  First  woman       False    C    Cherbourg   yes  False     3.932357  \n",
      "716  First  woman       False    C    Cherbourg   yes   True     3.932357  \n",
      "730  First  woman       False    B  Southampton   yes   True     3.606636  \n",
      "737  First    man        True    B    Cherbourg   yes   True     9.663111  \n",
      "742  First  woman       False    B    Cherbourg   yes  False     4.633599  \n",
      "779  First  woman       False    B  Southampton   yes  False     3.606636  \n",
      "\n",
      "Outliers After Replacement:\n",
      "     survived  pclass     sex        age  sibsp  parch      fare embarked  \\\n",
      "27          0       1    male  19.000000      3      2  263.0000        S   \n",
      "88          1       1  female  23.000000      3      2  263.0000        S   \n",
      "118         0       1    male  24.000000      0      1  247.5208        C   \n",
      "258         1       1  female  35.000000      0      0  512.3292        C   \n",
      "299         1       1  female  50.000000      0      1  247.5208        C   \n",
      "311         1       1  female  18.000000      2      2  262.3750        C   \n",
      "341         1       1  female  24.000000      3      2  263.0000        S   \n",
      "377         0       1    male  27.000000      0      2  211.5000        C   \n",
      "380         1       1  female  42.000000      0      0  227.5250        C   \n",
      "438         0       1    male  64.000000      1      4  263.0000        S   \n",
      "527         0       1    male  29.699118      0      0  221.7792        S   \n",
      "557         0       1    male  29.699118      0      0  227.5250        C   \n",
      "679         1       1    male  36.000000      0      1  512.3292        C   \n",
      "689         1       1  female  15.000000      0      1  211.3375        S   \n",
      "700         1       1  female  18.000000      1      0  227.5250        C   \n",
      "716         1       1  female  38.000000      0      0  227.5250        C   \n",
      "730         1       1  female  29.000000      0      0  211.3375        S   \n",
      "737         1       1    male  35.000000      0      0  512.3292        C   \n",
      "742         1       1  female  21.000000      2      2  262.3750        C   \n",
      "779         1       1  female  43.000000      0      1  211.3375        S   \n",
      "\n",
      "     class    who  adult_male deck  embark_town alive  alone     Fare  \n",
      "27   First    man        True    C  Southampton    no  False  14.4542  \n",
      "88   First  woman       False    C  Southampton   yes  False  14.4542  \n",
      "118  First    man        True    B    Cherbourg    no  False  14.4542  \n",
      "258  First  woman       False  NaN    Cherbourg   yes   True  14.4542  \n",
      "299  First  woman       False    B    Cherbourg   yes  False  14.4542  \n",
      "311  First  woman       False    B    Cherbourg   yes  False  14.4542  \n",
      "341  First  woman       False    C  Southampton   yes  False  14.4542  \n",
      "377  First    man        True    C    Cherbourg    no  False  14.4542  \n",
      "380  First  woman       False  NaN    Cherbourg   yes   True  14.4542  \n",
      "438  First    man        True    C  Southampton    no  False  14.4542  \n",
      "527  First    man        True    C  Southampton    no   True  14.4542  \n",
      "557  First    man        True  NaN    Cherbourg    no   True  14.4542  \n",
      "679  First    man        True    B    Cherbourg   yes  False  14.4542  \n",
      "689  First  child       False    B  Southampton   yes  False  14.4542  \n",
      "700  First  woman       False    C    Cherbourg   yes  False  14.4542  \n",
      "716  First  woman       False    C    Cherbourg   yes   True  14.4542  \n",
      "730  First  woman       False    B  Southampton   yes   True  14.4542  \n",
      "737  First    man        True    B    Cherbourg   yes   True  14.4542  \n",
      "742  First  woman       False    B    Cherbourg   yes  False  14.4542  \n",
      "779  First  woman       False    B  Southampton   yes  False  14.4542  \n"
     ]
    }
   ],
   "source": [
    "data['Fare_zscore'] = (data['fare'] - data['fare'].mean()) / data['fare'].std()\n",
    "zscore_threshold = 3\n",
    "\n",
    "outliers = data.loc[np.abs(data['Fare_zscore']) > zscore_threshold]\n",
    "\n",
    "print(\"Outliers:\")\n",
    "print(outliers)\n",
    "\n",
    "median_fare = data['fare'].median()\n",
    "data.loc[np.abs(data['Fare_zscore']) > zscore_threshold, 'Fare'] = median_fare\n",
    "\n",
    "data.drop('Fare_zscore', axis=1, inplace=True)\n",
    "\n",
    "outliers_after = data.loc[np.abs((data['fare'] - data['fare'].mean()) / data['fare'].std()) > zscore_threshold]\n",
    "print(\"\\nOutliers After Replacement:\")\n",
    "print(outliers_after)"
   ]
  },
  {
   "cell_type": "markdown",
   "id": "0d49240c-5201-48f6-a846-6ed2390120f6",
   "metadata": {},
   "source": [
    "## Categorical Columns and Encoding"
   ]
  },
  {
   "cell_type": "code",
   "execution_count": 13,
   "id": "39e40c4c-6764-4f3d-9845-39f0e992477e",
   "metadata": {},
   "outputs": [
    {
     "name": "stdout",
     "output_type": "stream",
     "text": [
      "Categorical Columns:\n",
      "Index(['sex', 'embarked', 'class', 'who', 'deck', 'embark_town', 'alive'], dtype='object')\n",
      "\n",
      "Encoded Dataset:\n",
      "   survived  pclass   age  sibsp  parch     fare adult_male  alone  Fare  \\\n",
      "0       0.0     3.0  22.0    1.0    0.0   7.2500       True  False   NaN   \n",
      "1       1.0     1.0  38.0    1.0    0.0  71.2833      False  False   NaN   \n",
      "2       1.0     3.0  26.0    0.0    0.0   7.9250      False   True   NaN   \n",
      "3       1.0     1.0  35.0    1.0    0.0  53.1000      False  False   NaN   \n",
      "4       0.0     3.0  35.0    0.0    0.0   8.0500       True   True   NaN   \n",
      "\n",
      "   sex_male  ...  deck_B  deck_C  deck_D  deck_E  deck_F  deck_G  deck_nan  \\\n",
      "0       1.0  ...     0.0     0.0     0.0     0.0     0.0     0.0       1.0   \n",
      "1       0.0  ...     0.0     1.0     0.0     0.0     0.0     0.0       0.0   \n",
      "2       0.0  ...     0.0     0.0     0.0     0.0     0.0     0.0       1.0   \n",
      "3       0.0  ...     0.0     1.0     0.0     0.0     0.0     0.0       0.0   \n",
      "4       1.0  ...     0.0     0.0     0.0     0.0     0.0     0.0       1.0   \n",
      "\n",
      "   embark_town_Queenstown  embark_town_Southampton  alive_yes  \n",
      "0                     0.0                      1.0        0.0  \n",
      "1                     0.0                      0.0        1.0  \n",
      "2                     0.0                      1.0        1.0  \n",
      "3                     0.0                      1.0        1.0  \n",
      "4                     0.0                      1.0        0.0  \n",
      "\n",
      "[5 rows x 26 columns]\n"
     ]
    },
    {
     "name": "stderr",
     "output_type": "stream",
     "text": [
      "/home/raghu/anaconda3/lib/python3.10/site-packages/sklearn/preprocessing/_encoders.py:828: FutureWarning: `sparse` was renamed to `sparse_output` in version 1.2 and will be removed in 1.4. `sparse_output` is ignored unless you leave `sparse` to its default value.\n",
      "  warnings.warn(\n"
     ]
    }
   ],
   "source": [
    "from sklearn.preprocessing import OneHotEncoder\n",
    "\n",
    "categorical_columns = data.select_dtypes(include=['object']).columns\n",
    "print(\"Categorical Columns:\")\n",
    "print(categorical_columns)\n",
    "encoder = OneHotEncoder(sparse=False, drop='first')\n",
    "encoded_data = encoder.fit_transform(data[categorical_columns])\n",
    "encoded_column_names = encoder.get_feature_names_out(categorical_columns)\n",
    "encoded_df = pd.DataFrame(encoded_data, columns=encoded_column_names)\n",
    "data_encoded = pd.concat([data, encoded_df], axis=1)\n",
    "data_encoded.drop(categorical_columns, axis=1, inplace=True)\n",
    "print(\"\\nEncoded Dataset:\")\n",
    "print(data_encoded.head())"
   ]
  },
  {
   "cell_type": "markdown",
   "id": "cc93cd8a-c117-49eb-86b3-65e4c029f3ac",
   "metadata": {},
   "source": [
    "## Split - Dependent amd Independent"
   ]
  },
  {
   "cell_type": "code",
   "execution_count": 14,
   "id": "907a4909-594b-47fb-93fa-2eae94e2e5cd",
   "metadata": {},
   "outputs": [
    {
     "name": "stdout",
     "output_type": "stream",
     "text": [
      "Shape of y (dependent variable): (889,)\n",
      "Shape of X (independent variables): (889, 15)\n"
     ]
    }
   ],
   "source": [
    "y = data['survived']\n",
    "X = data.drop('survived', axis=1)\n",
    "print(\"Shape of y (dependent variable):\", y.shape)\n",
    "print(\"Shape of X (independent variables):\", X.shape)"
   ]
  },
  {
   "cell_type": "markdown",
   "id": "1ad1d63b-8ad7-43f7-ada5-809152fe1d85",
   "metadata": {},
   "source": [
    "## Scale the Independent Variables"
   ]
  },
  {
   "cell_type": "code",
   "execution_count": 15,
   "id": "5d398e02-d253-4b10-a728-7d0e3e626ad8",
   "metadata": {},
   "outputs": [
    {
     "name": "stdout",
     "output_type": "stream",
     "text": [
      "Scaled Features:\n",
      "    0    1    2    3    4    5    6    7    8    9   ...   20   21   22   23  \\\n",
      "0  0.0  1.0  0.0  0.0  1.0  0.0  0.0  1.0  0.0  1.0  ...  0.0  1.0  1.0  0.0   \n",
      "1  1.0  0.0  1.0  0.0  0.0  1.0  0.0  0.0  0.0  0.0  ...  0.0  0.0  0.0  1.0   \n",
      "2  1.0  0.0  0.0  0.0  1.0  0.0  0.0  1.0  0.0  0.0  ...  0.0  1.0  0.0  1.0   \n",
      "3  1.0  0.0  0.0  0.0  1.0  1.0  0.0  0.0  0.0  0.0  ...  0.0  1.0  0.0  1.0   \n",
      "4  0.0  1.0  0.0  0.0  1.0  0.0  0.0  1.0  0.0  1.0  ...  0.0  1.0  1.0  0.0   \n",
      "\n",
      "         24        25        26        27        28  29  \n",
      "0  0.825209 -0.590495  0.431350 -0.474326 -0.500240 NaN  \n",
      "1 -1.572211  0.643971  0.431350 -0.474326  0.788947 NaN  \n",
      "2  0.825209 -0.281878 -0.475199 -0.474326 -0.486650 NaN  \n",
      "3 -1.572211  0.412509  0.431350 -0.474326  0.422861 NaN  \n",
      "4  0.825209  0.412509 -0.475199 -0.474326 -0.484133 NaN  \n",
      "\n",
      "[5 rows x 30 columns]\n"
     ]
    }
   ],
   "source": [
    "from sklearn.preprocessing import StandardScaler, OneHotEncoder\n",
    "from sklearn.compose import ColumnTransformer\n",
    "\n",
    "categorical_cols = X.select_dtypes(include=['object']).columns\n",
    "numerical_cols = X.select_dtypes(include=['int64', 'float64']).columns\n",
    "\n",
    "preprocessor = ColumnTransformer(\n",
    "    transformers=[\n",
    "        ('cat', OneHotEncoder(), categorical_cols),\n",
    "        ('num', StandardScaler(), numerical_cols)\n",
    "    ])\n",
    "\n",
    "X_scaled = preprocessor.fit_transform(X)\n",
    "X_scaled = pd.DataFrame(X_scaled)\n",
    "print(\"Scaled Features:\")\n",
    "print(X_scaled.head())"
   ]
  },
  {
   "cell_type": "markdown",
   "id": "34a8833b-08ac-46d2-a52c-1c3c1708f367",
   "metadata": {},
   "source": [
    "## Training and Testing"
   ]
  },
  {
   "cell_type": "code",
   "execution_count": 16,
   "id": "ad15448f-df4d-40ea-bc16-b893f20274cd",
   "metadata": {},
   "outputs": [
    {
     "name": "stdout",
     "output_type": "stream",
     "text": [
      "Shape of X_train: (711, 15)\n",
      "Shape of X_test: (178, 15)\n",
      "Shape of y_train: (711,)\n",
      "Shape of y_test: (178,)\n"
     ]
    }
   ],
   "source": [
    "from sklearn.model_selection import train_test_split\n",
    "X_train, X_test, y_train, y_test = train_test_split(X, y, test_size=0.2, random_state=42)\n",
    "\n",
    "print(\"Shape of X_train:\", X_train.shape)\n",
    "print(\"Shape of X_test:\", X_test.shape)\n",
    "print(\"Shape of y_train:\", y_train.shape)\n",
    "print(\"Shape of y_test:\", y_test.shape)"
   ]
  }
 ],
 "metadata": {
  "kernelspec": {
   "display_name": "Python 3 (ipykernel)",
   "language": "python",
   "name": "python3"
  },
  "language_info": {
   "codemirror_mode": {
    "name": "ipython",
    "version": 3
   },
   "file_extension": ".py",
   "mimetype": "text/x-python",
   "name": "python",
   "nbconvert_exporter": "python",
   "pygments_lexer": "ipython3",
   "version": "3.8.16"
  }
 },
 "nbformat": 4,
 "nbformat_minor": 5
}
