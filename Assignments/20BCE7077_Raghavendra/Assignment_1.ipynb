{
 "cells": [
  {
   "cell_type": "code",
   "execution_count": 1,
   "id": "58ad776e-2895-4757-874b-2dbdac956f2c",
   "metadata": {},
   "outputs": [
    {
     "name": "stdin",
     "output_type": "stream",
     "text": [
      "Enter your Name :-  Raghu\n",
      "Enter your Age :-  20\n"
     ]
    },
    {
     "name": "stdout",
     "output_type": "stream",
     "text": [
      "Your Name is 'Raghu' and your Age is '20'\n"
     ]
    }
   ],
   "source": [
    "# Question 1 \n",
    "\n",
    "Name = input(\"Enter your Name :- \")\n",
    "Age = input(\"Enter your Age :- \")\n",
    "\n",
    "print(\"Your Name is '\"+Name+\"' and your Age is '\"+Age+\"'\")"
   ]
  },
  {
   "cell_type": "code",
   "execution_count": 2,
   "id": "404b5c59-799b-4ff9-9255-2462aec0e2a5",
   "metadata": {},
   "outputs": [
    {
     "name": "stdout",
     "output_type": "stream",
     "text": [
      "The Splitted sentence is :- ['Datascience', 'is', 'used', 'to', 'extract', 'meaningful', 'insights.']\n"
     ]
    }
   ],
   "source": [
    "# Question 2\n",
    "\n",
    "a = \"Datascience is used to extract meaningful insights.\"\n",
    "b = a.split()\n",
    "\n",
    "print(\"The Splitted sentence is :- \"+str(b))"
   ]
  },
  {
   "cell_type": "code",
   "execution_count": 3,
   "id": "c9c54053-395d-46a3-91eb-1c9b7f199bdc",
   "metadata": {},
   "outputs": [
    {
     "name": "stdin",
     "output_type": "stream",
     "text": [
      "Enter the First number :-  5\n",
      "Enter the Second number :-  10\n"
     ]
    },
    {
     "name": "stdout",
     "output_type": "stream",
     "text": [
      "The Multiplication of 5.0 and 10.0 is 50.0\n"
     ]
    }
   ],
   "source": [
    "# Question 3 \n",
    "\n",
    "def multiply(c,d):\n",
    "    res = c*d\n",
    "    return res\n",
    "\n",
    "a = float(input(\"Enter the First number :- \"))\n",
    "b = float(input(\"Enter the Second number :- \"))\n",
    "c = multiply(a,b)\n",
    "\n",
    "print(\"The Multiplication of \"+str(a)+\" and \"+str(b)+\" is \"+str(c))"
   ]
  },
  {
   "cell_type": "code",
   "execution_count": 4,
   "id": "4667c44f-8e53-437e-8dce-beb3c0447997",
   "metadata": {},
   "outputs": [
    {
     "name": "stdout",
     "output_type": "stream",
     "text": [
      "The Dictionary created :- \n",
      "Telangana: Hyderabad\n",
      "Karnataka: Banglore\n",
      "Goa: Panaji\n",
      "Maharashtra: Mumbai\n",
      "West_Bengal: Kolkata\n",
      "\n",
      "The States from the Dictionary created (Keys):- \n",
      "Telangana\n",
      "Karnataka\n",
      "Goa\n",
      "Maharashtra\n",
      "West_Bengal\n",
      "\n",
      "The Capitals from the Dictionary created (Values):- \n",
      "Hyderabad\n",
      "Banglore\n",
      "Panaji\n",
      "Mumbai\n",
      "Kolkata\n"
     ]
    }
   ],
   "source": [
    "# Question 4\n",
    "\n",
    "dictionary = {\n",
    "    \"Telangana\" : \"Hyderabad\",\n",
    "    \"Karnataka\" : \"Banglore\",\n",
    "    \"Goa\" : \"Panaji\",\n",
    "    \"Maharashtra\" : \"Mumbai\",\n",
    "    \"West_Bengal\" : \"Kolkata\"\n",
    "}\n",
    "\n",
    "print(\"The Dictionary created :- \")\n",
    "for state, capital in dictionary.items():\n",
    "    print(f\"{state}: {capital}\")\n",
    "\n",
    "print(\"\\nThe States from the Dictionary created (Keys):- \")\n",
    "for state in dictionary.keys():\n",
    "    print(state)\n",
    "\n",
    "print(\"\\nThe Capitals from the Dictionary created (Values):- \")\n",
    "for capital in dictionary.values():\n",
    "    print(capital)"
   ]
  },
  {
   "cell_type": "code",
   "execution_count": 5,
   "id": "66570c5c-416d-4e74-a85d-60811452ee84",
   "metadata": {},
   "outputs": [
    {
     "name": "stdout",
     "output_type": "stream",
     "text": [
      "The list of 1000 numbers using range function :- \n",
      "[1, 2, 3, 4, 5, 6, 7, 8, 9, 10, 11, 12, 13, 14, 15, 16, 17, 18, 19, 20, 21, 22, 23, 24, 25, 26, 27, 28, 29, 30, 31, 32, 33, 34, 35, 36, 37, 38, 39, 40, 41, 42, 43, 44, 45, 46, 47, 48, 49, 50, 51, 52, 53, 54, 55, 56, 57, 58, 59, 60, 61, 62, 63, 64, 65, 66, 67, 68, 69, 70, 71, 72, 73, 74, 75, 76, 77, 78, 79, 80, 81, 82, 83, 84, 85, 86, 87, 88, 89, 90, 91, 92, 93, 94, 95, 96, 97, 98, 99, 100, 101, 102, 103, 104, 105, 106, 107, 108, 109, 110, 111, 112, 113, 114, 115, 116, 117, 118, 119, 120, 121, 122, 123, 124, 125, 126, 127, 128, 129, 130, 131, 132, 133, 134, 135, 136, 137, 138, 139, 140, 141, 142, 143, 144, 145, 146, 147, 148, 149, 150, 151, 152, 153, 154, 155, 156, 157, 158, 159, 160, 161, 162, 163, 164, 165, 166, 167, 168, 169, 170, 171, 172, 173, 174, 175, 176, 177, 178, 179, 180, 181, 182, 183, 184, 185, 186, 187, 188, 189, 190, 191, 192, 193, 194, 195, 196, 197, 198, 199, 200, 201, 202, 203, 204, 205, 206, 207, 208, 209, 210, 211, 212, 213, 214, 215, 216, 217, 218, 219, 220, 221, 222, 223, 224, 225, 226, 227, 228, 229, 230, 231, 232, 233, 234, 235, 236, 237, 238, 239, 240, 241, 242, 243, 244, 245, 246, 247, 248, 249, 250, 251, 252, 253, 254, 255, 256, 257, 258, 259, 260, 261, 262, 263, 264, 265, 266, 267, 268, 269, 270, 271, 272, 273, 274, 275, 276, 277, 278, 279, 280, 281, 282, 283, 284, 285, 286, 287, 288, 289, 290, 291, 292, 293, 294, 295, 296, 297, 298, 299, 300, 301, 302, 303, 304, 305, 306, 307, 308, 309, 310, 311, 312, 313, 314, 315, 316, 317, 318, 319, 320, 321, 322, 323, 324, 325, 326, 327, 328, 329, 330, 331, 332, 333, 334, 335, 336, 337, 338, 339, 340, 341, 342, 343, 344, 345, 346, 347, 348, 349, 350, 351, 352, 353, 354, 355, 356, 357, 358, 359, 360, 361, 362, 363, 364, 365, 366, 367, 368, 369, 370, 371, 372, 373, 374, 375, 376, 377, 378, 379, 380, 381, 382, 383, 384, 385, 386, 387, 388, 389, 390, 391, 392, 393, 394, 395, 396, 397, 398, 399, 400, 401, 402, 403, 404, 405, 406, 407, 408, 409, 410, 411, 412, 413, 414, 415, 416, 417, 418, 419, 420, 421, 422, 423, 424, 425, 426, 427, 428, 429, 430, 431, 432, 433, 434, 435, 436, 437, 438, 439, 440, 441, 442, 443, 444, 445, 446, 447, 448, 449, 450, 451, 452, 453, 454, 455, 456, 457, 458, 459, 460, 461, 462, 463, 464, 465, 466, 467, 468, 469, 470, 471, 472, 473, 474, 475, 476, 477, 478, 479, 480, 481, 482, 483, 484, 485, 486, 487, 488, 489, 490, 491, 492, 493, 494, 495, 496, 497, 498, 499, 500, 501, 502, 503, 504, 505, 506, 507, 508, 509, 510, 511, 512, 513, 514, 515, 516, 517, 518, 519, 520, 521, 522, 523, 524, 525, 526, 527, 528, 529, 530, 531, 532, 533, 534, 535, 536, 537, 538, 539, 540, 541, 542, 543, 544, 545, 546, 547, 548, 549, 550, 551, 552, 553, 554, 555, 556, 557, 558, 559, 560, 561, 562, 563, 564, 565, 566, 567, 568, 569, 570, 571, 572, 573, 574, 575, 576, 577, 578, 579, 580, 581, 582, 583, 584, 585, 586, 587, 588, 589, 590, 591, 592, 593, 594, 595, 596, 597, 598, 599, 600, 601, 602, 603, 604, 605, 606, 607, 608, 609, 610, 611, 612, 613, 614, 615, 616, 617, 618, 619, 620, 621, 622, 623, 624, 625, 626, 627, 628, 629, 630, 631, 632, 633, 634, 635, 636, 637, 638, 639, 640, 641, 642, 643, 644, 645, 646, 647, 648, 649, 650, 651, 652, 653, 654, 655, 656, 657, 658, 659, 660, 661, 662, 663, 664, 665, 666, 667, 668, 669, 670, 671, 672, 673, 674, 675, 676, 677, 678, 679, 680, 681, 682, 683, 684, 685, 686, 687, 688, 689, 690, 691, 692, 693, 694, 695, 696, 697, 698, 699, 700, 701, 702, 703, 704, 705, 706, 707, 708, 709, 710, 711, 712, 713, 714, 715, 716, 717, 718, 719, 720, 721, 722, 723, 724, 725, 726, 727, 728, 729, 730, 731, 732, 733, 734, 735, 736, 737, 738, 739, 740, 741, 742, 743, 744, 745, 746, 747, 748, 749, 750, 751, 752, 753, 754, 755, 756, 757, 758, 759, 760, 761, 762, 763, 764, 765, 766, 767, 768, 769, 770, 771, 772, 773, 774, 775, 776, 777, 778, 779, 780, 781, 782, 783, 784, 785, 786, 787, 788, 789, 790, 791, 792, 793, 794, 795, 796, 797, 798, 799, 800, 801, 802, 803, 804, 805, 806, 807, 808, 809, 810, 811, 812, 813, 814, 815, 816, 817, 818, 819, 820, 821, 822, 823, 824, 825, 826, 827, 828, 829, 830, 831, 832, 833, 834, 835, 836, 837, 838, 839, 840, 841, 842, 843, 844, 845, 846, 847, 848, 849, 850, 851, 852, 853, 854, 855, 856, 857, 858, 859, 860, 861, 862, 863, 864, 865, 866, 867, 868, 869, 870, 871, 872, 873, 874, 875, 876, 877, 878, 879, 880, 881, 882, 883, 884, 885, 886, 887, 888, 889, 890, 891, 892, 893, 894, 895, 896, 897, 898, 899, 900, 901, 902, 903, 904, 905, 906, 907, 908, 909, 910, 911, 912, 913, 914, 915, 916, 917, 918, 919, 920, 921, 922, 923, 924, 925, 926, 927, 928, 929, 930, 931, 932, 933, 934, 935, 936, 937, 938, 939, 940, 941, 942, 943, 944, 945, 946, 947, 948, 949, 950, 951, 952, 953, 954, 955, 956, 957, 958, 959, 960, 961, 962, 963, 964, 965, 966, 967, 968, 969, 970, 971, 972, 973, 974, 975, 976, 977, 978, 979, 980, 981, 982, 983, 984, 985, 986, 987, 988, 989, 990, 991, 992, 993, 994, 995, 996, 997, 998, 999, 1000]\n"
     ]
    }
   ],
   "source": [
    "# Question 5 \n",
    "\n",
    "num_range = list(range(1, 1001))\n",
    "print(\"The list of 1000 numbers using range function :- \")\n",
    "print(num_range)"
   ]
  },
  {
   "cell_type": "code",
   "execution_count": 6,
   "id": "f56defe1-b7cb-4250-a080-5907a3558bb5",
   "metadata": {},
   "outputs": [
    {
     "name": "stdout",
     "output_type": "stream",
     "text": [
      "The 4X4 Identity Martix :- \n",
      "[1, 0, 0, 0]\n",
      "[0, 1, 0, 0]\n",
      "[0, 0, 1, 0]\n",
      "[0, 0, 0, 1]\n"
     ]
    }
   ],
   "source": [
    "# Question 6\n",
    "\n",
    "arr = []\n",
    "for i in range(4):\n",
    "    row = []\n",
    "    for j in range(4):\n",
    "        if i == j:\n",
    "            row.append(1)\n",
    "        else:\n",
    "            row.append(0)\n",
    "    arr.append(row)\n",
    "print(\"The 4X4 Identity Martix :- \")\n",
    "for row in arr:\n",
    "    print(row)"
   ]
  },
  {
   "cell_type": "code",
   "execution_count": 7,
   "id": "52459cac-4832-4af3-ae3e-1d04bde56a5a",
   "metadata": {},
   "outputs": [
    {
     "name": "stdout",
     "output_type": "stream",
     "text": [
      "[1, 2, 3]\n",
      "[4, 5, 6]\n",
      "[7, 8, 9]\n"
     ]
    }
   ],
   "source": [
    "# Question 7\n",
    "\n",
    "arr = []\n",
    "count = 1\n",
    "for i in range(3):\n",
    "    row = []\n",
    "    for j in range(3):\n",
    "        row.append(count)\n",
    "        count += 1\n",
    "    arr.append(row)\n",
    "for row in arr:\n",
    "    print(row)"
   ]
  },
  {
   "cell_type": "code",
   "execution_count": 8,
   "id": "eb02912e-ceda-4255-b364-ddc850c4ee9c",
   "metadata": {},
   "outputs": [
    {
     "name": "stdin",
     "output_type": "stream",
     "text": [
      "Enter the no of Rows :-  2\n",
      "Enter the no of Columns :-  2\n"
     ]
    },
    {
     "name": "stdout",
     "output_type": "stream",
     "text": [
      "Enter the elements for 1st array :- \n"
     ]
    },
    {
     "name": "stdin",
     "output_type": "stream",
     "text": [
      " 1\n",
      " 2\n",
      " 3\n",
      " 4\n"
     ]
    },
    {
     "name": "stdout",
     "output_type": "stream",
     "text": [
      "Enter the elements for 2nd array :- \n"
     ]
    },
    {
     "name": "stdin",
     "output_type": "stream",
     "text": [
      " 4\n",
      " 3\n",
      " 2\n",
      " 1\n"
     ]
    },
    {
     "name": "stdout",
     "output_type": "stream",
     "text": [
      "The entered 1st Array is :- \n",
      "[1, 2]\n",
      "[3, 4]\n",
      "The entered 2nd Array is :- \n",
      "[4, 3]\n",
      "[2, 1]\n",
      "The addition of 2 entered matrices is :- \n",
      "[[5 5]\n",
      " [5 5]]\n"
     ]
    }
   ],
   "source": [
    "# Question 8\n",
    "\n",
    "import numpy as np\n",
    "\n",
    "r = int(input(\"Enter the no of Rows :- \"))\n",
    "c = int(input(\"Enter the no of Columns :- \"))        \n",
    "arr1 = []\n",
    "arr2 = []\n",
    "\n",
    "print(\"Enter the elements for 1st array :- \")    \n",
    "for i in range(r):          \n",
    "    a =[]\n",
    "    for j in range(c):     \n",
    "         a.append(int(input()))\n",
    "    arr1.append(a)\n",
    "print(\"Enter the elements for 2nd array :- \")\n",
    "for i in range(r):          \n",
    "    b =[]\n",
    "    for j in range(c):     \n",
    "         b.append(int(input()))\n",
    "    arr2.append(b)\n",
    "\n",
    "print(\"The entered 1st Array is :- \")\n",
    "for row in arr1:\n",
    "    print(row)\n",
    "print(\"The entered 2nd Array is :- \")\n",
    "for row in arr2:\n",
    "    print(row)\n",
    "        \n",
    "result = np.add(arr1, arr2)\n",
    "print(\"The addition of 2 entered matrices is :- \")\n",
    "print(result)"
   ]
  },
  {
   "cell_type": "code",
   "execution_count": 9,
   "id": "c3db1b86-5815-43a8-b2d7-672481084ea0",
   "metadata": {},
   "outputs": [
    {
     "name": "stdout",
     "output_type": "stream",
     "text": [
      "The series of dates from 1st Feb, 2023 to 1st March, 2023 (both inclusive) :- \n",
      "01-02-2023\n",
      "02-02-2023\n",
      "03-02-2023\n",
      "04-02-2023\n",
      "05-02-2023\n",
      "06-02-2023\n",
      "07-02-2023\n",
      "08-02-2023\n",
      "09-02-2023\n",
      "10-02-2023\n",
      "11-02-2023\n",
      "12-02-2023\n",
      "13-02-2023\n",
      "14-02-2023\n",
      "15-02-2023\n",
      "16-02-2023\n",
      "17-02-2023\n",
      "18-02-2023\n",
      "19-02-2023\n",
      "20-02-2023\n",
      "21-02-2023\n",
      "22-02-2023\n",
      "23-02-2023\n",
      "24-02-2023\n",
      "25-02-2023\n",
      "26-02-2023\n",
      "27-02-2023\n",
      "28-02-2023\n",
      "01-03-2023\n"
     ]
    }
   ],
   "source": [
    "# Question 9 \n",
    "\n",
    "from datetime import datetime, timedelta\n",
    "\n",
    "sdate = datetime(2023, 2, 1)\n",
    "edate = datetime(2023, 3, 1)\n",
    "darr = []\n",
    "temp = sdate\n",
    "while temp <= edate:\n",
    "    darr.append(temp.strftime(\"%d-%m-%Y\"))\n",
    "    temp += timedelta(days=1)\n",
    "    \n",
    "print(\"The series of dates from 1st Feb, 2023 to 1st March, 2023 (both inclusive) :- \")\n",
    "for date in darr:\n",
    "    print(date)"
   ]
  },
  {
   "cell_type": "code",
   "execution_count": 10,
   "id": "bc9999d2-3ab0-487a-8f4f-6c1a697f6567",
   "metadata": {},
   "outputs": [
    {
     "name": "stdout",
     "output_type": "stream",
     "text": [
      "     Brand  Sales\n",
      "0   Maruti    250\n",
      "1  Renault    200\n",
      "2   Hyndai    240\n"
     ]
    }
   ],
   "source": [
    "# Question 10 \n",
    "\n",
    "import pandas as pd\n",
    "\n",
    "dictionary = {'Brand': ['Maruti', 'Renault', 'Hyndai'], 'Sales' : [250, 200, 240]}\n",
    "df = pd.DataFrame(dictionary)\n",
    "print(df)"
   ]
  },
  {
   "cell_type": "code",
   "execution_count": null,
   "id": "5fb05950-56c9-4bf3-9422-f44cd2882525",
   "metadata": {},
   "outputs": [],
   "source": []
  }
 ],
 "metadata": {
  "kernelspec": {
   "display_name": "Python 3 (ipykernel)",
   "language": "python",
   "name": "python3"
  },
  "language_info": {
   "codemirror_mode": {
    "name": "ipython",
    "version": 3
   },
   "file_extension": ".py",
   "mimetype": "text/x-python",
   "name": "python",
   "nbconvert_exporter": "python",
   "pygments_lexer": "ipython3",
   "version": "3.10.9"
  }
 },
 "nbformat": 4,
 "nbformat_minor": 5
}
