{
  "nbformat": 4,
  "nbformat_minor": 0,
  "metadata": {
    "colab": {
      "provenance": []
    },
    "kernelspec": {
      "name": "python3",
      "display_name": "Python 3"
    },
    "language_info": {
      "name": "python"
    }
  },
  "cells": [
    {
      "cell_type": "code",
      "execution_count": null,
      "metadata": {
        "id": "60FhPT7AJNAi"
      },
      "outputs": [],
      "source": [
        "import pandas as pd\n",
        "import numpy as np\n",
        "import matplotlib.pyplot as plt\n",
        "import seaborn as sns\n",
        "%matplotlib inline"
      ]
    },
    {
      "cell_type": "code",
      "source": [
        "data=pd.read_csv(\"titanic.csv\")"
      ],
      "metadata": {
        "id": "IoPzcmc9Jba5"
      },
      "execution_count": null,
      "outputs": []
    },
    {
      "cell_type": "code",
      "source": [
        "data.head()"
      ],
      "metadata": {
        "colab": {
          "base_uri": "https://localhost:8080/",
          "height": 206
        },
        "id": "2dlq0ramJkbr",
        "outputId": "1cc51177-efe3-4d46-9bf5-e79dea4f9925"
      },
      "execution_count": null,
      "outputs": [
        {
          "output_type": "execute_result",
          "data": {
            "text/plain": [
              "   survived  pclass     sex   age  sibsp  parch     fare embarked  class  \\\n",
              "0         0       3    male  22.0      1      0   7.2500        S  Third   \n",
              "1         1       1  female  38.0      1      0  71.2833        C  First   \n",
              "2         1       3  female  26.0      0      0   7.9250        S  Third   \n",
              "3         1       1  female  35.0      1      0  53.1000        S  First   \n",
              "4         0       3    male  35.0      0      0   8.0500        S  Third   \n",
              "\n",
              "     who  adult_male deck  embark_town alive  alone  \n",
              "0    man        True  NaN  Southampton    no  False  \n",
              "1  woman       False    C    Cherbourg   yes  False  \n",
              "2  woman       False  NaN  Southampton   yes   True  \n",
              "3  woman       False    C  Southampton   yes  False  \n",
              "4    man        True  NaN  Southampton    no   True  "
            ],
            "text/html": [
              "\n",
              "  <div id=\"df-5d836822-b444-48a8-8ba0-2225c7061cdb\">\n",
              "    <div class=\"colab-df-container\">\n",
              "      <div>\n",
              "<style scoped>\n",
              "    .dataframe tbody tr th:only-of-type {\n",
              "        vertical-align: middle;\n",
              "    }\n",
              "\n",
              "    .dataframe tbody tr th {\n",
              "        vertical-align: top;\n",
              "    }\n",
              "\n",
              "    .dataframe thead th {\n",
              "        text-align: right;\n",
              "    }\n",
              "</style>\n",
              "<table border=\"1\" class=\"dataframe\">\n",
              "  <thead>\n",
              "    <tr style=\"text-align: right;\">\n",
              "      <th></th>\n",
              "      <th>survived</th>\n",
              "      <th>pclass</th>\n",
              "      <th>sex</th>\n",
              "      <th>age</th>\n",
              "      <th>sibsp</th>\n",
              "      <th>parch</th>\n",
              "      <th>fare</th>\n",
              "      <th>embarked</th>\n",
              "      <th>class</th>\n",
              "      <th>who</th>\n",
              "      <th>adult_male</th>\n",
              "      <th>deck</th>\n",
              "      <th>embark_town</th>\n",
              "      <th>alive</th>\n",
              "      <th>alone</th>\n",
              "    </tr>\n",
              "  </thead>\n",
              "  <tbody>\n",
              "    <tr>\n",
              "      <th>0</th>\n",
              "      <td>0</td>\n",
              "      <td>3</td>\n",
              "      <td>male</td>\n",
              "      <td>22.0</td>\n",
              "      <td>1</td>\n",
              "      <td>0</td>\n",
              "      <td>7.2500</td>\n",
              "      <td>S</td>\n",
              "      <td>Third</td>\n",
              "      <td>man</td>\n",
              "      <td>True</td>\n",
              "      <td>NaN</td>\n",
              "      <td>Southampton</td>\n",
              "      <td>no</td>\n",
              "      <td>False</td>\n",
              "    </tr>\n",
              "    <tr>\n",
              "      <th>1</th>\n",
              "      <td>1</td>\n",
              "      <td>1</td>\n",
              "      <td>female</td>\n",
              "      <td>38.0</td>\n",
              "      <td>1</td>\n",
              "      <td>0</td>\n",
              "      <td>71.2833</td>\n",
              "      <td>C</td>\n",
              "      <td>First</td>\n",
              "      <td>woman</td>\n",
              "      <td>False</td>\n",
              "      <td>C</td>\n",
              "      <td>Cherbourg</td>\n",
              "      <td>yes</td>\n",
              "      <td>False</td>\n",
              "    </tr>\n",
              "    <tr>\n",
              "      <th>2</th>\n",
              "      <td>1</td>\n",
              "      <td>3</td>\n",
              "      <td>female</td>\n",
              "      <td>26.0</td>\n",
              "      <td>0</td>\n",
              "      <td>0</td>\n",
              "      <td>7.9250</td>\n",
              "      <td>S</td>\n",
              "      <td>Third</td>\n",
              "      <td>woman</td>\n",
              "      <td>False</td>\n",
              "      <td>NaN</td>\n",
              "      <td>Southampton</td>\n",
              "      <td>yes</td>\n",
              "      <td>True</td>\n",
              "    </tr>\n",
              "    <tr>\n",
              "      <th>3</th>\n",
              "      <td>1</td>\n",
              "      <td>1</td>\n",
              "      <td>female</td>\n",
              "      <td>35.0</td>\n",
              "      <td>1</td>\n",
              "      <td>0</td>\n",
              "      <td>53.1000</td>\n",
              "      <td>S</td>\n",
              "      <td>First</td>\n",
              "      <td>woman</td>\n",
              "      <td>False</td>\n",
              "      <td>C</td>\n",
              "      <td>Southampton</td>\n",
              "      <td>yes</td>\n",
              "      <td>False</td>\n",
              "    </tr>\n",
              "    <tr>\n",
              "      <th>4</th>\n",
              "      <td>0</td>\n",
              "      <td>3</td>\n",
              "      <td>male</td>\n",
              "      <td>35.0</td>\n",
              "      <td>0</td>\n",
              "      <td>0</td>\n",
              "      <td>8.0500</td>\n",
              "      <td>S</td>\n",
              "      <td>Third</td>\n",
              "      <td>man</td>\n",
              "      <td>True</td>\n",
              "      <td>NaN</td>\n",
              "      <td>Southampton</td>\n",
              "      <td>no</td>\n",
              "      <td>True</td>\n",
              "    </tr>\n",
              "  </tbody>\n",
              "</table>\n",
              "</div>\n",
              "      <button class=\"colab-df-convert\" onclick=\"convertToInteractive('df-5d836822-b444-48a8-8ba0-2225c7061cdb')\"\n",
              "              title=\"Convert this dataframe to an interactive table.\"\n",
              "              style=\"display:none;\">\n",
              "        \n",
              "  <svg xmlns=\"http://www.w3.org/2000/svg\" height=\"24px\"viewBox=\"0 0 24 24\"\n",
              "       width=\"24px\">\n",
              "    <path d=\"M0 0h24v24H0V0z\" fill=\"none\"/>\n",
              "    <path d=\"M18.56 5.44l.94 2.06.94-2.06 2.06-.94-2.06-.94-.94-2.06-.94 2.06-2.06.94zm-11 1L8.5 8.5l.94-2.06 2.06-.94-2.06-.94L8.5 2.5l-.94 2.06-2.06.94zm10 10l.94 2.06.94-2.06 2.06-.94-2.06-.94-.94-2.06-.94 2.06-2.06.94z\"/><path d=\"M17.41 7.96l-1.37-1.37c-.4-.4-.92-.59-1.43-.59-.52 0-1.04.2-1.43.59L10.3 9.45l-7.72 7.72c-.78.78-.78 2.05 0 2.83L4 21.41c.39.39.9.59 1.41.59.51 0 1.02-.2 1.41-.59l7.78-7.78 2.81-2.81c.8-.78.8-2.07 0-2.86zM5.41 20L4 18.59l7.72-7.72 1.47 1.35L5.41 20z\"/>\n",
              "  </svg>\n",
              "      </button>\n",
              "      \n",
              "  <style>\n",
              "    .colab-df-container {\n",
              "      display:flex;\n",
              "      flex-wrap:wrap;\n",
              "      gap: 12px;\n",
              "    }\n",
              "\n",
              "    .colab-df-convert {\n",
              "      background-color: #E8F0FE;\n",
              "      border: none;\n",
              "      border-radius: 50%;\n",
              "      cursor: pointer;\n",
              "      display: none;\n",
              "      fill: #1967D2;\n",
              "      height: 32px;\n",
              "      padding: 0 0 0 0;\n",
              "      width: 32px;\n",
              "    }\n",
              "\n",
              "    .colab-df-convert:hover {\n",
              "      background-color: #E2EBFA;\n",
              "      box-shadow: 0px 1px 2px rgba(60, 64, 67, 0.3), 0px 1px 3px 1px rgba(60, 64, 67, 0.15);\n",
              "      fill: #174EA6;\n",
              "    }\n",
              "\n",
              "    [theme=dark] .colab-df-convert {\n",
              "      background-color: #3B4455;\n",
              "      fill: #D2E3FC;\n",
              "    }\n",
              "\n",
              "    [theme=dark] .colab-df-convert:hover {\n",
              "      background-color: #434B5C;\n",
              "      box-shadow: 0px 1px 3px 1px rgba(0, 0, 0, 0.15);\n",
              "      filter: drop-shadow(0px 1px 2px rgba(0, 0, 0, 0.3));\n",
              "      fill: #FFFFFF;\n",
              "    }\n",
              "  </style>\n",
              "\n",
              "      <script>\n",
              "        const buttonEl =\n",
              "          document.querySelector('#df-5d836822-b444-48a8-8ba0-2225c7061cdb button.colab-df-convert');\n",
              "        buttonEl.style.display =\n",
              "          google.colab.kernel.accessAllowed ? 'block' : 'none';\n",
              "\n",
              "        async function convertToInteractive(key) {\n",
              "          const element = document.querySelector('#df-5d836822-b444-48a8-8ba0-2225c7061cdb');\n",
              "          const dataTable =\n",
              "            await google.colab.kernel.invokeFunction('convertToInteractive',\n",
              "                                                     [key], {});\n",
              "          if (!dataTable) return;\n",
              "\n",
              "          const docLinkHtml = 'Like what you see? Visit the ' +\n",
              "            '<a target=\"_blank\" href=https://colab.research.google.com/notebooks/data_table.ipynb>data table notebook</a>'\n",
              "            + ' to learn more about interactive tables.';\n",
              "          element.innerHTML = '';\n",
              "          dataTable['output_type'] = 'display_data';\n",
              "          await google.colab.output.renderOutput(dataTable, element);\n",
              "          const docLink = document.createElement('div');\n",
              "          docLink.innerHTML = docLinkHtml;\n",
              "          element.appendChild(docLink);\n",
              "        }\n",
              "      </script>\n",
              "    </div>\n",
              "  </div>\n",
              "  "
            ]
          },
          "metadata": {},
          "execution_count": 3
        }
      ]
    },
    {
      "cell_type": "markdown",
      "source": [
        "### Univariate Analysis"
      ],
      "metadata": {
        "id": "priVNtsQJvjS"
      }
    },
    {
      "cell_type": "code",
      "source": [
        "plt.hist(data['age'].dropna(), bins=30, edgecolor='black')\n",
        "plt.hist(data['age'].dropna(), bins=30, edgecolor='black')\n",
        "plt.xlabel('Age')\n",
        "plt.ylabel('Frequency')\n",
        "plt.title('Age Distribution')\n",
        "plt.show()"
      ],
      "metadata": {
        "colab": {
          "base_uri": "https://localhost:8080/",
          "height": 472
        },
        "id": "C2Xn0QSnJmCb",
        "outputId": "3eb74651-2123-46e5-bf39-8aa4ebf442f4"
      },
      "execution_count": null,
      "outputs": [
        {
          "output_type": "display_data",
          "data": {
            "text/plain": [
              "<Figure size 640x480 with 1 Axes>"
            ],
            "image/png": "[encoded data removed]"
          },
          "metadata": {}
        }
      ]
    },
    {
      "cell_type": "markdown",
      "source": [
        "### Bi- Variate Analysis"
      ],
      "metadata": {
        "id": "bz1OvxGxJ1AE"
      }
    },
    {
      "cell_type": "code",
      "source": [
        "plt.scatter(data['age'], data['fare'])\n",
        "plt.xlabel('Age')\n",
        "plt.ylabel('Fare')\n",
        "plt.title('Age vs Fare')\n",
        "plt.show()"
      ],
      "metadata": {
        "colab": {
          "base_uri": "https://localhost:8080/",
          "height": 472
        },
        "id": "PGDEEcLoJ0uR",
        "outputId": "fa32222f-f63d-4e49-f05d-4e340f491a8d"
      },
      "execution_count": null,
      "outputs": [
        {
          "output_type": "display_data",
          "data": {
            "text/plain": [
              "<Figure size 640x480 with 1 Axes>"
            ],
            "image/png": "[encoded data removed]"
          },
          "metadata": {}
        }
      ]
    },
    {
      "cell_type": "markdown",
      "source": [
        "### Multi Variate analysis"
      ],
      "metadata": {
        "id": "y00yHcThKigG"
      }
    },
    {
      "cell_type": "code",
      "source": [
        "variables = ['age', 'fare', 'survived']\n",
        "sns.pairplot(data[variables].dropna(), hue='survived')\n",
        "\n",
        "plt.show()"
      ],
      "metadata": {
        "colab": {
          "base_uri": "https://localhost:8080/",
          "height": 513
        },
        "id": "QuRRSAViKeiO",
        "outputId": "ee23c01d-ca54-4a53-8cca-0892a6ba8859"
      },
      "execution_count": null,
      "outputs": [
        {
          "output_type": "display_data",
          "data": {
            "text/plain": [
              "<Figure size 570.486x500 with 6 Axes>"
            ],
            "image/png": "[encoded data removed]"
          },
          "metadata": {}
        }
      ]
    },
    {
      "cell_type": "markdown",
      "source": [
        "### Perform descriptive statistics on the dataset.\n"
      ],
      "metadata": {
        "id": "Xx18Ll6rKvCm"
      }
    },
    {
      "cell_type": "code",
      "source": [
        "numeric_stats = data.describe()\n",
        "print(\"Numeric Descriptive Statistics:\")\n",
        "print(numeric_stats)\n",
        "\n",
        "categorical_stats = data.describe(include='object')\n",
        "print(\"\\nCategorical Descriptive Statistics:\")\n",
        "print(categorical_stats)"
      ],
      "metadata": {
        "colab": {
          "base_uri": "https://localhost:8080/"
        },
        "id": "5ydtxA6kKopT",
        "outputId": "b7ea64ff-7ffd-4961-e1d8-b30ca81bbb41"
      },
      "execution_count": null,
      "outputs": [
        {
          "output_type": "stream",
          "name": "stdout",
          "text": [
            "Numeric Descriptive Statistics:\n",
            "         survived      pclass         age       sibsp       parch        fare\n",
            "count  891.000000  891.000000  714.000000  891.000000  891.000000  891.000000\n",
            "mean     0.383838    2.308642   29.699118    0.523008    0.381594   32.204208\n",
            "std      0.486592    0.836071   14.526497    1.102743    0.806057   49.693429\n",
            "min      0.000000    1.000000    0.420000    0.000000    0.000000    0.000000\n",
            "25%      0.000000    2.000000   20.125000    0.000000    0.000000    7.910400\n",
            "50%      0.000000    3.000000   28.000000    0.000000    0.000000   14.454200\n",
            "75%      1.000000    3.000000   38.000000    1.000000    0.000000   31.000000\n",
            "max      1.000000    3.000000   80.000000    8.000000    6.000000  512.329200\n",
            "\n",
            "Categorical Descriptive Statistics:\n",
            "         sex embarked  class  who deck  embark_town alive\n",
            "count    891      889    891  891  203          889   891\n",
            "unique     2        3      3    3    7            3     2\n",
            "top     male        S  Third  man    C  Southampton    no\n",
            "freq     577      644    491  537   59          644   549\n"
          ]
        }
      ]
    },
    {
      "cell_type": "markdown",
      "source": [
        "### Handle the Missing values"
      ],
      "metadata": {
        "id": "2h378Rg-K8f8"
      }
    },
    {
      "cell_type": "code",
      "source": [
        "data.isna()"
      ],
      "metadata": {
        "colab": {
          "base_uri": "https://localhost:8080/",
          "height": 423
        },
        "id": "d2VC7o53K5d5",
        "outputId": "1f4d540f-0110-42e0-d868-8bf0932f3958"
      },
      "execution_count": null,
      "outputs": [
        {
          "output_type": "execute_result",
          "data": {
            "text/plain": [
              "     survived  pclass    sex    age  sibsp  parch   fare  embarked  class  \\\n",
              "0       False   False  False  False  False  False  False     False  False   \n",
              "1       False   False  False  False  False  False  False     False  False   \n",
              "2       False   False  False  False  False  False  False     False  False   \n",
              "3       False   False  False  False  False  False  False     False  False   \n",
              "4       False   False  False  False  False  False  False     False  False   \n",
              "..        ...     ...    ...    ...    ...    ...    ...       ...    ...   \n",
              "886     False   False  False  False  False  False  False     False  False   \n",
              "887     False   False  False  False  False  False  False     False  False   \n",
              "888     False   False  False   True  False  False  False     False  False   \n",
              "889     False   False  False  False  False  False  False     False  False   \n",
              "890     False   False  False  False  False  False  False     False  False   \n",
              "\n",
              "       who  adult_male   deck  embark_town  alive  alone  \n",
              "0    False       False   True        False  False  False  \n",
              "1    False       False  False        False  False  False  \n",
              "2    False       False   True        False  False  False  \n",
              "3    False       False  False        False  False  False  \n",
              "4    False       False   True        False  False  False  \n",
              "..     ...         ...    ...          ...    ...    ...  \n",
              "886  False       False   True        False  False  False  \n",
              "887  False       False  False        False  False  False  \n",
              "888  False       False   True        False  False  False  \n",
              "889  False       False  False        False  False  False  \n",
              "890  False       False   True        False  False  False  \n",
              "\n",
              "[891 rows x 15 columns]"
            ],
            "text/html": [
              "\n",
              "  <div id=\"df-6b30a20e-5ea7-4cf2-bb84-01e58535ef05\">\n",
              "    <div class=\"colab-df-container\">\n",
              "      <div>\n",
              "<style scoped>\n",
              "    .dataframe tbody tr th:only-of-type {\n",
              "        vertical-align: middle;\n",
              "    }\n",
              "\n",
              "    .dataframe tbody tr th {\n",
              "        vertical-align: top;\n",
              "    }\n",
              "\n",
              "    .dataframe thead th {\n",
              "        text-align: right;\n",
              "    }\n",
              "</style>\n",
              "<table border=\"1\" class=\"dataframe\">\n",
              "  <thead>\n",
              "    <tr style=\"text-align: right;\">\n",
              "      <th></th>\n",
              "      <th>survived</th>\n",
              "      <th>pclass</th>\n",
              "      <th>sex</th>\n",
              "      <th>age</th>\n",
              "      <th>sibsp</th>\n",
              "      <th>parch</th>\n",
              "      <th>fare</th>\n",
              "      <th>embarked</th>\n",
              "      <th>class</th>\n",
              "      <th>who</th>\n",
              "      <th>adult_male</th>\n",
              "      <th>deck</th>\n",
              "      <th>embark_town</th>\n",
              "      <th>alive</th>\n",
              "      <th>alone</th>\n",
              "    </tr>\n",
              "  </thead>\n",
              "  <tbody>\n",
              "    <tr>\n",
              "      <th>0</th>\n",
              "      <td>False</td>\n",
              "      <td>False</td>\n",
              "      <td>False</td>\n",
              "      <td>False</td>\n",
              "      <td>False</td>\n",
              "      <td>False</td>\n",
              "      <td>False</td>\n",
              "      <td>False</td>\n",
              "      <td>False</td>\n",
              "      <td>False</td>\n",
              "      <td>False</td>\n",
              "      <td>True</td>\n",
              "      <td>False</td>\n",
              "      <td>False</td>\n",
              "      <td>False</td>\n",
              "    </tr>\n",
              "    <tr>\n",
              "      <th>1</th>\n",
              "      <td>False</td>\n",
              "      <td>False</td>\n",
              "      <td>False</td>\n",
              "      <td>False</td>\n",
              "      <td>False</td>\n",
              "      <td>False</td>\n",
              "      <td>False</td>\n",
              "      <td>False</td>\n",
              "      <td>False</td>\n",
              "      <td>False</td>\n",
              "      <td>False</td>\n",
              "      <td>False</td>\n",
              "      <td>False</td>\n",
              "      <td>False</td>\n",
              "      <td>False</td>\n",
              "    </tr>\n",
              "    <tr>\n",
              "      <th>2</th>\n",
              "      <td>False</td>\n",
              "      <td>False</td>\n",
              "      <td>False</td>\n",
              "      <td>False</td>\n",
              "      <td>False</td>\n",
              "      <td>False</td>\n",
              "      <td>False</td>\n",
              "      <td>False</td>\n",
              "      <td>False</td>\n",
              "      <td>False</td>\n",
              "      <td>False</td>\n",
              "      <td>True</td>\n",
              "      <td>False</td>\n",
              "      <td>False</td>\n",
              "      <td>False</td>\n",
              "    </tr>\n",
              "    <tr>\n",
              "      <th>3</th>\n",
              "      <td>False</td>\n",
              "      <td>False</td>\n",
              "      <td>False</td>\n",
              "      <td>False</td>\n",
              "      <td>False</td>\n",
              "      <td>False</td>\n",
              "      <td>False</td>\n",
              "      <td>False</td>\n",
              "      <td>False</td>\n",
              "      <td>False</td>\n",
              "      <td>False</td>\n",
              "      <td>False</td>\n",
              "      <td>False</td>\n",
              "      <td>False</td>\n",
              "      <td>False</td>\n",
              "    </tr>\n",
              "    <tr>\n",
              "      <th>4</th>\n",
              "      <td>False</td>\n",
              "      <td>False</td>\n",
              "      <td>False</td>\n",
              "      <td>False</td>\n",
              "      <td>False</td>\n",
              "      <td>False</td>\n",
              "      <td>False</td>\n",
              "      <td>False</td>\n",
              "      <td>False</td>\n",
              "      <td>False</td>\n",
              "      <td>False</td>\n",
              "      <td>True</td>\n",
              "      <td>False</td>\n",
              "      <td>False</td>\n",
              "      <td>False</td>\n",
              "    </tr>\n",
              "    <tr>\n",
              "      <th>...</th>\n",
              "      <td>...</td>\n",
              "      <td>...</td>\n",
              "      <td>...</td>\n",
              "      <td>...</td>\n",
              "      <td>...</td>\n",
              "      <td>...</td>\n",
              "      <td>...</td>\n",
              "      <td>...</td>\n",
              "      <td>...</td>\n",
              "      <td>...</td>\n",
              "      <td>...</td>\n",
              "      <td>...</td>\n",
              "      <td>...</td>\n",
              "      <td>...</td>\n",
              "      <td>...</td>\n",
              "    </tr>\n",
              "    <tr>\n",
              "      <th>886</th>\n",
              "      <td>False</td>\n",
              "      <td>False</td>\n",
              "      <td>False</td>\n",
              "      <td>False</td>\n",
              "      <td>False</td>\n",
              "      <td>False</td>\n",
              "      <td>False</td>\n",
              "      <td>False</td>\n",
              "      <td>False</td>\n",
              "      <td>False</td>\n",
              "      <td>False</td>\n",
              "      <td>True</td>\n",
              "      <td>False</td>\n",
              "      <td>False</td>\n",
              "      <td>False</td>\n",
              "    </tr>\n",
              "    <tr>\n",
              "      <th>887</th>\n",
              "      <td>False</td>\n",
              "      <td>False</td>\n",
              "      <td>False</td>\n",
              "      <td>False</td>\n",
              "      <td>False</td>\n",
              "      <td>False</td>\n",
              "      <td>False</td>\n",
              "      <td>False</td>\n",
              "      <td>False</td>\n",
              "      <td>False</td>\n",
              "      <td>False</td>\n",
              "      <td>False</td>\n",
              "      <td>False</td>\n",
              "      <td>False</td>\n",
              "      <td>False</td>\n",
              "    </tr>\n",
              "    <tr>\n",
              "      <th>888</th>\n",
              "      <td>False</td>\n",
              "      <td>False</td>\n",
              "      <td>False</td>\n",
              "      <td>True</td>\n",
              "      <td>False</td>\n",
              "      <td>False</td>\n",
              "      <td>False</td>\n",
              "      <td>False</td>\n",
              "      <td>False</td>\n",
              "      <td>False</td>\n",
              "      <td>False</td>\n",
              "      <td>True</td>\n",
              "      <td>False</td>\n",
              "      <td>False</td>\n",
              "      <td>False</td>\n",
              "    </tr>\n",
              "    <tr>\n",
              "      <th>889</th>\n",
              "      <td>False</td>\n",
              "      <td>False</td>\n",
              "      <td>False</td>\n",
              "      <td>False</td>\n",
              "      <td>False</td>\n",
              "      <td>False</td>\n",
              "      <td>False</td>\n",
              "      <td>False</td>\n",
              "      <td>False</td>\n",
              "      <td>False</td>\n",
              "      <td>False</td>\n",
              "      <td>False</td>\n",
              "      <td>False</td>\n",
              "      <td>False</td>\n",
              "      <td>False</td>\n",
              "    </tr>\n",
              "    <tr>\n",
              "      <th>890</th>\n",
              "      <td>False</td>\n",
              "      <td>False</td>\n",
              "      <td>False</td>\n",
              "      <td>False</td>\n",
              "      <td>False</td>\n",
              "      <td>False</td>\n",
              "      <td>False</td>\n",
              "      <td>False</td>\n",
              "      <td>False</td>\n",
              "      <td>False</td>\n",
              "      <td>False</td>\n",
              "      <td>True</td>\n",
              "      <td>False</td>\n",
              "      <td>False</td>\n",
              "      <td>False</td>\n",
              "    </tr>\n",
              "  </tbody>\n",
              "</table>\n",
              "<p>891 rows × 15 columns</p>\n",
              "</div>\n",
              "      <button class=\"colab-df-convert\" onclick=\"convertToInteractive('df-6b30a20e-5ea7-4cf2-bb84-01e58535ef05')\"\n",
              "              title=\"Convert this dataframe to an interactive table.\"\n",
              "              style=\"display:none;\">\n",
              "        \n",
              "  <svg xmlns=\"http://www.w3.org/2000/svg\" height=\"24px\"viewBox=\"0 0 24 24\"\n",
              "       width=\"24px\">\n",
              "    <path d=\"M0 0h24v24H0V0z\" fill=\"none\"/>\n",
              "    <path d=\"M18.56 5.44l.94 2.06.94-2.06 2.06-.94-2.06-.94-.94-2.06-.94 2.06-2.06.94zm-11 1L8.5 8.5l.94-2.06 2.06-.94-2.06-.94L8.5 2.5l-.94 2.06-2.06.94zm10 10l.94 2.06.94-2.06 2.06-.94-2.06-.94-.94-2.06-.94 2.06-2.06.94z\"/><path d=\"M17.41 7.96l-1.37-1.37c-.4-.4-.92-.59-1.43-.59-.52 0-1.04.2-1.43.59L10.3 9.45l-7.72 7.72c-.78.78-.78 2.05 0 2.83L4 21.41c.39.39.9.59 1.41.59.51 0 1.02-.2 1.41-.59l7.78-7.78 2.81-2.81c.8-.78.8-2.07 0-2.86zM5.41 20L4 18.59l7.72-7.72 1.47 1.35L5.41 20z\"/>\n",
              "  </svg>\n",
              "      </button>\n",
              "      \n",
              "  <style>\n",
              "    .colab-df-container {\n",
              "      display:flex;\n",
              "      flex-wrap:wrap;\n",
              "      gap: 12px;\n",
              "    }\n",
              "\n",
              "    .colab-df-convert {\n",
              "      background-color: #E8F0FE;\n",
              "      border: none;\n",
              "      border-radius: 50%;\n",
              "      cursor: pointer;\n",
              "      display: none;\n",
              "      fill: #1967D2;\n",
              "      height: 32px;\n",
              "      padding: 0 0 0 0;\n",
              "      width: 32px;\n",
              "    }\n",
              "\n",
              "    .colab-df-convert:hover {\n",
              "      background-color: #E2EBFA;\n",
              "      box-shadow: 0px 1px 2px rgba(60, 64, 67, 0.3), 0px 1px 3px 1px rgba(60, 64, 67, 0.15);\n",
              "      fill: #174EA6;\n",
              "    }\n",
              "\n",
              "    [theme=dark] .colab-df-convert {\n",
              "      background-color: #3B4455;\n",
              "      fill: #D2E3FC;\n",
              "    }\n",
              "\n",
              "    [theme=dark] .colab-df-convert:hover {\n",
              "      background-color: #434B5C;\n",
              "      box-shadow: 0px 1px 3px 1px rgba(0, 0, 0, 0.15);\n",
              "      filter: drop-shadow(0px 1px 2px rgba(0, 0, 0, 0.3));\n",
              "      fill: #FFFFFF;\n",
              "    }\n",
              "  </style>\n",
              "\n",
              "      <script>\n",
              "        const buttonEl =\n",
              "          document.querySelector('#df-6b30a20e-5ea7-4cf2-bb84-01e58535ef05 button.colab-df-convert');\n",
              "        buttonEl.style.display =\n",
              "          google.colab.kernel.accessAllowed ? 'block' : 'none';\n",
              "\n",
              "        async function convertToInteractive(key) {\n",
              "          const element = document.querySelector('#df-6b30a20e-5ea7-4cf2-bb84-01e58535ef05');\n",
              "          const dataTable =\n",
              "            await google.colab.kernel.invokeFunction('convertToInteractive',\n",
              "                                                     [key], {});\n",
              "          if (!dataTable) return;\n",
              "\n",
              "          const docLinkHtml = 'Like what you see? Visit the ' +\n",
              "            '<a target=\"_blank\" href=https://colab.research.google.com/notebooks/data_table.ipynb>data table notebook</a>'\n",
              "            + ' to learn more about interactive tables.';\n",
              "          element.innerHTML = '';\n",
              "          dataTable['output_type'] = 'display_data';\n",
              "          await google.colab.output.renderOutput(dataTable, element);\n",
              "          const docLink = document.createElement('div');\n",
              "          docLink.innerHTML = docLinkHtml;\n",
              "          element.appendChild(docLink);\n",
              "        }\n",
              "      </script>\n",
              "    </div>\n",
              "  </div>\n",
              "  "
            ]
          },
          "metadata": {},
          "execution_count": 8
        }
      ]
    },
    {
      "cell_type": "code",
      "source": [
        "missing_values=data.isnull().sum()"
      ],
      "metadata": {
        "id": "sgrIXLnGLAET"
      },
      "execution_count": null,
      "outputs": []
    },
    {
      "cell_type": "code",
      "source": [
        "missing_values"
      ],
      "metadata": {
        "colab": {
          "base_uri": "https://localhost:8080/"
        },
        "id": "YD77MxRDLCiO",
        "outputId": "9eee6b4c-8575-4ef0-81ed-a5f469ae25e5"
      },
      "execution_count": null,
      "outputs": [
        {
          "output_type": "execute_result",
          "data": {
            "text/plain": [
              "survived         0\n",
              "pclass           0\n",
              "sex              0\n",
              "age            177\n",
              "sibsp            0\n",
              "parch            0\n",
              "fare             0\n",
              "embarked         2\n",
              "class            0\n",
              "who              0\n",
              "adult_male       0\n",
              "deck           688\n",
              "embark_town      2\n",
              "alive            0\n",
              "alone            0\n",
              "dtype: int64"
            ]
          },
          "metadata": {},
          "execution_count": 10
        }
      ]
    },
    {
      "cell_type": "code",
      "source": [
        "data['age'].fillna(data['age'].mean(), inplace=True)\n",
        "data.dropna(subset=['embarked'], inplace=True)\n",
        "missing_values_after = data.isnull().sum()\n",
        "print(\"\\nMissing Values After Handling:\")\n",
        "print(missing_values_after)"
      ],
      "metadata": {
        "colab": {
          "base_uri": "https://localhost:8080/"
        },
        "id": "zk3xzrrqLZBo",
        "outputId": "336b2a4b-5047-4af2-b693-460e6f6e8a25"
      },
      "execution_count": null,
      "outputs": [
        {
          "output_type": "stream",
          "name": "stdout",
          "text": [
            "\n",
            "Missing Values After Handling:\n",
            "survived         0\n",
            "pclass           0\n",
            "sex              0\n",
            "age              0\n",
            "sibsp            0\n",
            "parch            0\n",
            "fare             0\n",
            "embarked         0\n",
            "class            0\n",
            "who              0\n",
            "adult_male       0\n",
            "deck           688\n",
            "embark_town      0\n",
            "alive            0\n",
            "alone            0\n",
            "dtype: int64\n"
          ]
        }
      ]
    },
    {
      "cell_type": "markdown",
      "source": [
        "###  Find the outliers and replace the outliers"
      ],
      "metadata": {
        "id": "3k2jw-Wx_Ysd"
      }
    },
    {
      "cell_type": "code",
      "source": [
        "data['Fare_zscore'] = (data['fare'] - data['fare'].mean()) / data['fare'].std()\n",
        "zscore_threshold = 3\n",
        "\n",
        "outliers = data.loc[np.abs(data['Fare_zscore']) > zscore_threshold]\n",
        "\n",
        "print(\"Outliers:\")\n",
        "print(outliers)\n",
        "\n",
        "median_fare = data['fare'].median()\n",
        "data.loc[np.abs(data['Fare_zscore']) > zscore_threshold, 'Fare'] = median_fare\n",
        "\n",
        "data.drop('Fare_zscore', axis=1, inplace=True)\n",
        "\n",
        "outliers_after = data.loc[np.abs((data['fare'] - data['fare'].mean()) / data['fare'].std()) > zscore_threshold]\n",
        "print(\"\\nOutliers After Replacement:\")\n",
        "print(outliers_after)"
      ],
      "metadata": {
        "colab": {
          "base_uri": "https://localhost:8080/"
        },
        "id": "TGAEojZyLeUq",
        "outputId": "7e93f495-34d0-4ded-83be-cc6a36d3eee5"
      },
      "execution_count": null,
      "outputs": [
        {
          "output_type": "stream",
          "name": "stdout",
          "text": [
            "Outliers:\n",
            "     survived  pclass     sex        age  sibsp  parch      fare embarked  \\\n",
            "27          0       1    male  19.000000      3      2  263.0000        S   \n",
            "88          1       1  female  23.000000      3      2  263.0000        S   \n",
            "118         0       1    male  24.000000      0      1  247.5208        C   \n",
            "258         1       1  female  35.000000      0      0  512.3292        C   \n",
            "299         1       1  female  50.000000      0      1  247.5208        C   \n",
            "311         1       1  female  18.000000      2      2  262.3750        C   \n",
            "341         1       1  female  24.000000      3      2  263.0000        S   \n",
            "377         0       1    male  27.000000      0      2  211.5000        C   \n",
            "380         1       1  female  42.000000      0      0  227.5250        C   \n",
            "438         0       1    male  64.000000      1      4  263.0000        S   \n",
            "527         0       1    male  29.699118      0      0  221.7792        S   \n",
            "557         0       1    male  29.699118      0      0  227.5250        C   \n",
            "679         1       1    male  36.000000      0      1  512.3292        C   \n",
            "689         1       1  female  15.000000      0      1  211.3375        S   \n",
            "700         1       1  female  18.000000      1      0  227.5250        C   \n",
            "716         1       1  female  38.000000      0      0  227.5250        C   \n",
            "730         1       1  female  29.000000      0      0  211.3375        S   \n",
            "737         1       1    male  35.000000      0      0  512.3292        C   \n",
            "742         1       1  female  21.000000      2      2  262.3750        C   \n",
            "779         1       1  female  43.000000      0      1  211.3375        S   \n",
            "\n",
            "     class    who  adult_male deck  embark_town alive  alone  Fare_zscore  \n",
            "27   First    man        True    C  Southampton    no  False     4.646175  \n",
            "88   First  woman       False    C  Southampton   yes  False     4.646175  \n",
            "118  First    man        True    B    Cherbourg    no  False     4.334707  \n",
            "258  First  woman       False  NaN    Cherbourg   yes   True     9.663111  \n",
            "299  First  woman       False    B    Cherbourg   yes  False     4.334707  \n",
            "311  First  woman       False    B    Cherbourg   yes  False     4.633599  \n",
            "341  First  woman       False    C  Southampton   yes  False     4.646175  \n",
            "377  First    man        True    C    Cherbourg    no  False     3.609906  \n",
            "380  First  woman       False  NaN    Cherbourg   yes   True     3.932357  \n",
            "438  First    man        True    C  Southampton    no  False     4.646175  \n",
            "527  First    man        True    C  Southampton    no   True     3.816741  \n",
            "557  First    man        True  NaN    Cherbourg    no   True     3.932357  \n",
            "679  First    man        True    B    Cherbourg   yes  False     9.663111  \n",
            "689  First  child       False    B  Southampton   yes  False     3.606636  \n",
            "700  First  woman       False    C    Cherbourg   yes  False     3.932357  \n",
            "716  First  woman       False    C    Cherbourg   yes   True     3.932357  \n",
            "730  First  woman       False    B  Southampton   yes   True     3.606636  \n",
            "737  First    man        True    B    Cherbourg   yes   True     9.663111  \n",
            "742  First  woman       False    B    Cherbourg   yes  False     4.633599  \n",
            "779  First  woman       False    B  Southampton   yes  False     3.606636  \n",
            "\n",
            "Outliers After Replacement:\n",
            "     survived  pclass     sex        age  sibsp  parch      fare embarked  \\\n",
            "27          0       1    male  19.000000      3      2  263.0000        S   \n",
            "88          1       1  female  23.000000      3      2  263.0000        S   \n",
            "118         0       1    male  24.000000      0      1  247.5208        C   \n",
            "258         1       1  female  35.000000      0      0  512.3292        C   \n",
            "299         1       1  female  50.000000      0      1  247.5208        C   \n",
            "311         1       1  female  18.000000      2      2  262.3750        C   \n",
            "341         1       1  female  24.000000      3      2  263.0000        S   \n",
            "377         0       1    male  27.000000      0      2  211.5000        C   \n",
            "380         1       1  female  42.000000      0      0  227.5250        C   \n",
            "438         0       1    male  64.000000      1      4  263.0000        S   \n",
            "527         0       1    male  29.699118      0      0  221.7792        S   \n",
            "557         0       1    male  29.699118      0      0  227.5250        C   \n",
            "679         1       1    male  36.000000      0      1  512.3292        C   \n",
            "689         1       1  female  15.000000      0      1  211.3375        S   \n",
            "700         1       1  female  18.000000      1      0  227.5250        C   \n",
            "716         1       1  female  38.000000      0      0  227.5250        C   \n",
            "730         1       1  female  29.000000      0      0  211.3375        S   \n",
            "737         1       1    male  35.000000      0      0  512.3292        C   \n",
            "742         1       1  female  21.000000      2      2  262.3750        C   \n",
            "779         1       1  female  43.000000      0      1  211.3375        S   \n",
            "\n",
            "     class    who  adult_male deck  embark_town alive  alone     Fare  \n",
            "27   First    man        True    C  Southampton    no  False  14.4542  \n",
            "88   First  woman       False    C  Southampton   yes  False  14.4542  \n",
            "118  First    man        True    B    Cherbourg    no  False  14.4542  \n",
            "258  First  woman       False  NaN    Cherbourg   yes   True  14.4542  \n",
            "299  First  woman       False    B    Cherbourg   yes  False  14.4542  \n",
            "311  First  woman       False    B    Cherbourg   yes  False  14.4542  \n",
            "341  First  woman       False    C  Southampton   yes  False  14.4542  \n",
            "377  First    man        True    C    Cherbourg    no  False  14.4542  \n",
            "380  First  woman       False  NaN    Cherbourg   yes   True  14.4542  \n",
            "438  First    man        True    C  Southampton    no  False  14.4542  \n",
            "527  First    man        True    C  Southampton    no   True  14.4542  \n",
            "557  First    man        True  NaN    Cherbourg    no   True  14.4542  \n",
            "679  First    man        True    B    Cherbourg   yes  False  14.4542  \n",
            "689  First  child       False    B  Southampton   yes  False  14.4542  \n",
            "700  First  woman       False    C    Cherbourg   yes  False  14.4542  \n",
            "716  First  woman       False    C    Cherbourg   yes   True  14.4542  \n",
            "730  First  woman       False    B  Southampton   yes   True  14.4542  \n",
            "737  First    man        True    B    Cherbourg   yes   True  14.4542  \n",
            "742  First  woman       False    B    Cherbourg   yes  False  14.4542  \n",
            "779  First  woman       False    B  Southampton   yes  False  14.4542  \n"
          ]
        }
      ]
    },
    {
      "cell_type": "markdown",
      "source": [
        "### Check for Categorical columns and perform encoding"
      ],
      "metadata": {
        "id": "pC5o_6nu_S5D"
      }
    },
    {
      "cell_type": "code",
      "source": [
        "from sklearn.preprocessing import OneHotEncoder\n",
        "\n",
        "categorical_columns = data.select_dtypes(include=['object']).columns\n",
        "print(\"Categorical Columns:\")\n",
        "print(categorical_columns)\n",
        "encoder = OneHotEncoder(sparse=False, drop='first')\n",
        "encoded_data = encoder.fit_transform(data[categorical_columns])\n",
        "encoded_column_names = encoder.get_feature_names_out(categorical_columns)\n",
        "encoded_df = pd.DataFrame(encoded_data, columns=encoded_column_names)\n",
        "data_encoded = pd.concat([data, encoded_df], axis=1)\n",
        "data_encoded.drop(categorical_columns, axis=1, inplace=True)\n",
        "print(\"\\nEncoded Dataset:\")\n",
        "print(data_encoded.head())"
      ],
      "metadata": {
        "colab": {
          "base_uri": "https://localhost:8080/"
        },
        "id": "u8X1jcgA_P7-",
        "outputId": "c3eb98ca-abfb-4d30-dd1e-f04107bbc177"
      },
      "execution_count": null,
      "outputs": [
        {
          "output_type": "stream",
          "name": "stdout",
          "text": [
            "Categorical Columns:\n",
            "Index(['sex', 'embarked', 'class', 'who', 'deck', 'embark_town', 'alive'], dtype='object')\n",
            "\n",
            "Encoded Dataset:\n",
            "   survived  pclass   age  sibsp  parch     fare adult_male  alone  Fare  \\\n",
            "0       0.0     3.0  22.0    1.0    0.0   7.2500       True  False   NaN   \n",
            "1       1.0     1.0  38.0    1.0    0.0  71.2833      False  False   NaN   \n",
            "2       1.0     3.0  26.0    0.0    0.0   7.9250      False   True   NaN   \n",
            "3       1.0     1.0  35.0    1.0    0.0  53.1000      False  False   NaN   \n",
            "4       0.0     3.0  35.0    0.0    0.0   8.0500       True   True   NaN   \n",
            "\n",
            "   sex_male  ...  deck_B  deck_C  deck_D  deck_E  deck_F  deck_G  deck_nan  \\\n",
            "0       1.0  ...     0.0     0.0     0.0     0.0     0.0     0.0       1.0   \n",
            "1       0.0  ...     0.0     1.0     0.0     0.0     0.0     0.0       0.0   \n",
            "2       0.0  ...     0.0     0.0     0.0     0.0     0.0     0.0       1.0   \n",
            "3       0.0  ...     0.0     1.0     0.0     0.0     0.0     0.0       0.0   \n",
            "4       1.0  ...     0.0     0.0     0.0     0.0     0.0     0.0       1.0   \n",
            "\n",
            "   embark_town_Queenstown  embark_town_Southampton  alive_yes  \n",
            "0                     0.0                      1.0        0.0  \n",
            "1                     0.0                      0.0        1.0  \n",
            "2                     0.0                      1.0        1.0  \n",
            "3                     0.0                      1.0        1.0  \n",
            "4                     0.0                      1.0        0.0  \n",
            "\n",
            "[5 rows x 26 columns]\n"
          ]
        },
        {
          "output_type": "stream",
          "name": "stderr",
          "text": [
            "/usr/local/lib/python3.10/dist-packages/sklearn/preprocessing/_encoders.py:868: FutureWarning: `sparse` was renamed to `sparse_output` in version 1.2 and will be removed in 1.4. `sparse_output` is ignored unless you leave `sparse` to its default value.\n",
            "  warnings.warn(\n"
          ]
        }
      ]
    },
    {
      "cell_type": "markdown",
      "source": [
        "### Split the data into dependent and independent variables."
      ],
      "metadata": {
        "id": "1O3yxnBbAA7n"
      }
    },
    {
      "cell_type": "code",
      "source": [
        "y = data['survived']\n",
        "X = data.drop('survived', axis=1)\n",
        "print(\"Shape of y (dependent variable):\", y.shape)\n",
        "print(\"Shape of X (independent variables):\", X.shape)"
      ],
      "metadata": {
        "colab": {
          "base_uri": "https://localhost:8080/"
        },
        "id": "sjCR4hT-_m5d",
        "outputId": "2332486a-2cb5-4ad1-c89f-fa904b8bceb0"
      },
      "execution_count": null,
      "outputs": [
        {
          "output_type": "stream",
          "name": "stdout",
          "text": [
            "Shape of y (dependent variable): (889,)\n",
            "Shape of X (independent variables): (889, 15)\n"
          ]
        }
      ]
    },
    {
      "cell_type": "markdown",
      "source": [
        "### Scale the independent variables"
      ],
      "metadata": {
        "id": "vFjZ1_bWAQh1"
      }
    },
    {
      "cell_type": "code",
      "source": [
        "from sklearn.preprocessing import StandardScaler, OneHotEncoder\n",
        "from sklearn.compose import ColumnTransformer\n",
        "\n",
        "categorical_cols = X.select_dtypes(include=['object']).columns\n",
        "numerical_cols = X.select_dtypes(include=['int64', 'float64']).columns\n",
        "\n",
        "preprocessor = ColumnTransformer(\n",
        "    transformers=[\n",
        "        ('cat', OneHotEncoder(), categorical_cols),\n",
        "        ('num', StandardScaler(), numerical_cols)\n",
        "    ])\n",
        "\n",
        "X_scaled = preprocessor.fit_transform(X)\n",
        "X_scaled = pd.DataFrame(X_scaled)\n",
        "print(\"Scaled Features:\")\n",
        "print(X_scaled.head())"
      ],
      "metadata": {
        "colab": {
          "base_uri": "https://localhost:8080/"
        },
        "id": "TBKTGa_UAPrr",
        "outputId": "2fd281e1-2257-4a75-f0a5-0af385ef92fb"
      },
      "execution_count": null,
      "outputs": [
        {
          "output_type": "stream",
          "name": "stdout",
          "text": [
            "Scaled Features:\n",
            "    0    1    2    3    4    5    6    7    8    9   ...   20   21   22   23  \\\n",
            "0  0.0  1.0  0.0  0.0  1.0  0.0  0.0  1.0  0.0  1.0  ...  0.0  1.0  1.0  0.0   \n",
            "1  1.0  0.0  1.0  0.0  0.0  1.0  0.0  0.0  0.0  0.0  ...  0.0  0.0  0.0  1.0   \n",
            "2  1.0  0.0  0.0  0.0  1.0  0.0  0.0  1.0  0.0  0.0  ...  0.0  1.0  0.0  1.0   \n",
            "3  1.0  0.0  0.0  0.0  1.0  1.0  0.0  0.0  0.0  0.0  ...  0.0  1.0  0.0  1.0   \n",
            "4  0.0  1.0  0.0  0.0  1.0  0.0  0.0  1.0  0.0  1.0  ...  0.0  1.0  1.0  0.0   \n",
            "\n",
            "         24        25        26        27        28  29  \n",
            "0  0.825209 -0.590495  0.431350 -0.474326 -0.500240 NaN  \n",
            "1 -1.572211  0.643971  0.431350 -0.474326  0.788947 NaN  \n",
            "2  0.825209 -0.281878 -0.475199 -0.474326 -0.486650 NaN  \n",
            "3 -1.572211  0.412509  0.431350 -0.474326  0.422861 NaN  \n",
            "4  0.825209  0.412509 -0.475199 -0.474326 -0.484133 NaN  \n",
            "\n",
            "[5 rows x 30 columns]\n"
          ]
        }
      ]
    },
    {
      "cell_type": "markdown",
      "source": [
        "### Split the data into training and testing"
      ],
      "metadata": {
        "id": "00BDu-fGA4Kx"
      }
    },
    {
      "cell_type": "code",
      "source": [
        "from sklearn.model_selection import train_test_split"
      ],
      "metadata": {
        "id": "Z782rO6WAiKc"
      },
      "execution_count": null,
      "outputs": []
    },
    {
      "cell_type": "code",
      "source": [
        "X_train, X_test, y_train, y_test = train_test_split(X, y, test_size=0.2, random_state=42)\n",
        "\n",
        "print(\"Shape of X_train:\", X_train.shape)\n",
        "print(\"Shape of X_test:\", X_test.shape)\n",
        "print(\"Shape of y_train:\", y_train.shape)\n",
        "print(\"Shape of y_test:\", y_test.shape)"
      ],
      "metadata": {
        "colab": {
          "base_uri": "https://localhost:8080/"
        },
        "id": "kUnK4VKBA9jR",
        "outputId": "b9f2f559-b141-44f5-a34e-3f60517c1262"
      },
      "execution_count": null,
      "outputs": [
        {
          "output_type": "stream",
          "name": "stdout",
          "text": [
            "Shape of X_train: (711, 15)\n",
            "Shape of X_test: (178, 15)\n",
            "Shape of y_train: (711,)\n",
            "Shape of y_test: (178,)\n"
          ]
        }
      ]
    },
    {
      "cell_type": "code",
      "source": [],
      "metadata": {
        "id": "oBA633DNA_9U"
      },
      "execution_count": null,
      "outputs": []
    }
  ]
}